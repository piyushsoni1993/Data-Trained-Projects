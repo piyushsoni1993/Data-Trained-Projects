{
 "cells": [
  {
   "cell_type": "markdown",
   "id": "d9a957f0",
   "metadata": {},
   "source": [
    "# Avocado Price Prediction"
   ]
  },
  {
   "cell_type": "markdown",
   "id": "e9782dcc",
   "metadata": {},
   "source": [
    "The table below represents weekly 2018 retail scan data for National retail volume (units) and price. Retail scan data comes directly from retailers’ cash registers based on actual retail sales of Hass avocados.\n",
    "\n",
    "Starting in 2013, the table below reflects an expanded, multi-outlet retail data set. Multi-outlet reporting includes an aggregation of the following channels: grocery, mass, club, drug, dollar and military. The Average Price (of avocados) in the table reflects a per unit (per avocado) cost, even when multiple units (avocados) are sold in bags.\n",
    "\n",
    "The Product Lookup codes (PLU’s) in the table are only for Hass avocados. Other varieties of avocados (e.g. greenskins) are not included in this table.\n",
    "\n",
    "Some relevant columns in the dataset:\n",
    "\n",
    "Date - The date of the observation AveragePrice - the average price of a single avocado type - conventional or organic year - the year Region - the city or region of the observation Total Volume - Total number of avocados sold 4046 - Total number of avocados with PLU 4046 sold 4225 - Total number of avocados with PLU 4225 sold 4770 - Total number of avocados with PLU 4770 sold"
   ]
  },
  {
   "cell_type": "markdown",
   "id": "7c623939",
   "metadata": {},
   "source": [
    "# Business problem\n",
    "To make a model that can consider the data provided and predict the Average Price."
   ]
  },
  {
   "cell_type": "code",
   "execution_count": 105,
   "id": "d3cbe7d1",
   "metadata": {},
   "outputs": [],
   "source": [
    "import pandas as pd\n",
    "import numpy as np\n",
    "import matplotlib.pyplot as plt\n",
    "import seaborn as sns\n",
    "import warnings\n",
    "warnings.filterwarnings('ignore')\n",
    "from sklearn.linear_model import LinearRegression\n",
    "from sklearn.naive_bayes import GaussianNB\n",
    "from sklearn.preprocessing import LabelEncoder, StandardScaler\n",
    "from sklearn.model_selection import cross_val_score,train_test_split,GridSearchCV\n",
    "import joblib\n",
    "from sklearn.decomposition import PCA\n",
    "from scipy.stats import zscore"
   ]
  },
  {
   "cell_type": "code",
   "execution_count": 106,
   "id": "64a09da1",
   "metadata": {},
   "outputs": [
    {
     "data": {
      "text/html": [
       "<div>\n",
       "<style scoped>\n",
       "    .dataframe tbody tr th:only-of-type {\n",
       "        vertical-align: middle;\n",
       "    }\n",
       "\n",
       "    .dataframe tbody tr th {\n",
       "        vertical-align: top;\n",
       "    }\n",
       "\n",
       "    .dataframe thead th {\n",
       "        text-align: right;\n",
       "    }\n",
       "</style>\n",
       "<table border=\"1\" class=\"dataframe\">\n",
       "  <thead>\n",
       "    <tr style=\"text-align: right;\">\n",
       "      <th></th>\n",
       "      <th>Unnamed: 0</th>\n",
       "      <th>Date</th>\n",
       "      <th>AveragePrice</th>\n",
       "      <th>Total Volume</th>\n",
       "      <th>4046</th>\n",
       "      <th>4225</th>\n",
       "      <th>4770</th>\n",
       "      <th>Total Bags</th>\n",
       "      <th>Small Bags</th>\n",
       "      <th>Large Bags</th>\n",
       "      <th>XLarge Bags</th>\n",
       "      <th>type</th>\n",
       "      <th>year</th>\n",
       "      <th>region</th>\n",
       "    </tr>\n",
       "  </thead>\n",
       "  <tbody>\n",
       "    <tr>\n",
       "      <th>0</th>\n",
       "      <td>0</td>\n",
       "      <td>2015-12-27</td>\n",
       "      <td>1.33</td>\n",
       "      <td>64236.62</td>\n",
       "      <td>1036.74</td>\n",
       "      <td>54454.85</td>\n",
       "      <td>48.16</td>\n",
       "      <td>8696.87</td>\n",
       "      <td>8603.62</td>\n",
       "      <td>93.25</td>\n",
       "      <td>0.0</td>\n",
       "      <td>conventional</td>\n",
       "      <td>2015</td>\n",
       "      <td>Albany</td>\n",
       "    </tr>\n",
       "    <tr>\n",
       "      <th>1</th>\n",
       "      <td>1</td>\n",
       "      <td>2015-12-20</td>\n",
       "      <td>1.35</td>\n",
       "      <td>54876.98</td>\n",
       "      <td>674.28</td>\n",
       "      <td>44638.81</td>\n",
       "      <td>58.33</td>\n",
       "      <td>9505.56</td>\n",
       "      <td>9408.07</td>\n",
       "      <td>97.49</td>\n",
       "      <td>0.0</td>\n",
       "      <td>conventional</td>\n",
       "      <td>2015</td>\n",
       "      <td>Albany</td>\n",
       "    </tr>\n",
       "    <tr>\n",
       "      <th>2</th>\n",
       "      <td>2</td>\n",
       "      <td>2015-12-13</td>\n",
       "      <td>0.93</td>\n",
       "      <td>118220.22</td>\n",
       "      <td>794.70</td>\n",
       "      <td>109149.67</td>\n",
       "      <td>130.50</td>\n",
       "      <td>8145.35</td>\n",
       "      <td>8042.21</td>\n",
       "      <td>103.14</td>\n",
       "      <td>0.0</td>\n",
       "      <td>conventional</td>\n",
       "      <td>2015</td>\n",
       "      <td>Albany</td>\n",
       "    </tr>\n",
       "    <tr>\n",
       "      <th>3</th>\n",
       "      <td>3</td>\n",
       "      <td>2015-12-06</td>\n",
       "      <td>1.08</td>\n",
       "      <td>78992.15</td>\n",
       "      <td>1132.00</td>\n",
       "      <td>71976.41</td>\n",
       "      <td>72.58</td>\n",
       "      <td>5811.16</td>\n",
       "      <td>5677.40</td>\n",
       "      <td>133.76</td>\n",
       "      <td>0.0</td>\n",
       "      <td>conventional</td>\n",
       "      <td>2015</td>\n",
       "      <td>Albany</td>\n",
       "    </tr>\n",
       "    <tr>\n",
       "      <th>4</th>\n",
       "      <td>4</td>\n",
       "      <td>2015-11-29</td>\n",
       "      <td>1.28</td>\n",
       "      <td>51039.60</td>\n",
       "      <td>941.48</td>\n",
       "      <td>43838.39</td>\n",
       "      <td>75.78</td>\n",
       "      <td>6183.95</td>\n",
       "      <td>5986.26</td>\n",
       "      <td>197.69</td>\n",
       "      <td>0.0</td>\n",
       "      <td>conventional</td>\n",
       "      <td>2015</td>\n",
       "      <td>Albany</td>\n",
       "    </tr>\n",
       "  </tbody>\n",
       "</table>\n",
       "</div>"
      ],
      "text/plain": [
       "   Unnamed: 0        Date  AveragePrice  Total Volume     4046       4225  \\\n",
       "0           0  2015-12-27          1.33      64236.62  1036.74   54454.85   \n",
       "1           1  2015-12-20          1.35      54876.98   674.28   44638.81   \n",
       "2           2  2015-12-13          0.93     118220.22   794.70  109149.67   \n",
       "3           3  2015-12-06          1.08      78992.15  1132.00   71976.41   \n",
       "4           4  2015-11-29          1.28      51039.60   941.48   43838.39   \n",
       "\n",
       "     4770  Total Bags  Small Bags  Large Bags  XLarge Bags          type  \\\n",
       "0   48.16     8696.87     8603.62       93.25          0.0  conventional   \n",
       "1   58.33     9505.56     9408.07       97.49          0.0  conventional   \n",
       "2  130.50     8145.35     8042.21      103.14          0.0  conventional   \n",
       "3   72.58     5811.16     5677.40      133.76          0.0  conventional   \n",
       "4   75.78     6183.95     5986.26      197.69          0.0  conventional   \n",
       "\n",
       "   year  region  \n",
       "0  2015  Albany  \n",
       "1  2015  Albany  \n",
       "2  2015  Albany  \n",
       "3  2015  Albany  \n",
       "4  2015  Albany  "
      ]
     },
     "execution_count": 106,
     "metadata": {},
     "output_type": "execute_result"
    }
   ],
   "source": [
    "df=pd.read_csv('avocado.csv')\n",
    "df.head()"
   ]
  },
  {
   "cell_type": "code",
   "execution_count": 107,
   "id": "916aba15",
   "metadata": {},
   "outputs": [
    {
     "data": {
      "text/html": [
       "<div>\n",
       "<style scoped>\n",
       "    .dataframe tbody tr th:only-of-type {\n",
       "        vertical-align: middle;\n",
       "    }\n",
       "\n",
       "    .dataframe tbody tr th {\n",
       "        vertical-align: top;\n",
       "    }\n",
       "\n",
       "    .dataframe thead th {\n",
       "        text-align: right;\n",
       "    }\n",
       "</style>\n",
       "<table border=\"1\" class=\"dataframe\">\n",
       "  <thead>\n",
       "    <tr style=\"text-align: right;\">\n",
       "      <th></th>\n",
       "      <th>Date</th>\n",
       "      <th>AveragePrice</th>\n",
       "      <th>Total Volume</th>\n",
       "      <th>4046</th>\n",
       "      <th>4225</th>\n",
       "      <th>4770</th>\n",
       "      <th>Total Bags</th>\n",
       "      <th>Small Bags</th>\n",
       "      <th>Large Bags</th>\n",
       "      <th>XLarge Bags</th>\n",
       "      <th>type</th>\n",
       "      <th>year</th>\n",
       "      <th>region</th>\n",
       "    </tr>\n",
       "  </thead>\n",
       "  <tbody>\n",
       "    <tr>\n",
       "      <th>0</th>\n",
       "      <td>2015-12-27</td>\n",
       "      <td>1.33</td>\n",
       "      <td>64236.62</td>\n",
       "      <td>1036.74</td>\n",
       "      <td>54454.85</td>\n",
       "      <td>48.16</td>\n",
       "      <td>8696.87</td>\n",
       "      <td>8603.62</td>\n",
       "      <td>93.25</td>\n",
       "      <td>0.0</td>\n",
       "      <td>conventional</td>\n",
       "      <td>2015</td>\n",
       "      <td>Albany</td>\n",
       "    </tr>\n",
       "    <tr>\n",
       "      <th>1</th>\n",
       "      <td>2015-12-20</td>\n",
       "      <td>1.35</td>\n",
       "      <td>54876.98</td>\n",
       "      <td>674.28</td>\n",
       "      <td>44638.81</td>\n",
       "      <td>58.33</td>\n",
       "      <td>9505.56</td>\n",
       "      <td>9408.07</td>\n",
       "      <td>97.49</td>\n",
       "      <td>0.0</td>\n",
       "      <td>conventional</td>\n",
       "      <td>2015</td>\n",
       "      <td>Albany</td>\n",
       "    </tr>\n",
       "    <tr>\n",
       "      <th>2</th>\n",
       "      <td>2015-12-13</td>\n",
       "      <td>0.93</td>\n",
       "      <td>118220.22</td>\n",
       "      <td>794.70</td>\n",
       "      <td>109149.67</td>\n",
       "      <td>130.50</td>\n",
       "      <td>8145.35</td>\n",
       "      <td>8042.21</td>\n",
       "      <td>103.14</td>\n",
       "      <td>0.0</td>\n",
       "      <td>conventional</td>\n",
       "      <td>2015</td>\n",
       "      <td>Albany</td>\n",
       "    </tr>\n",
       "    <tr>\n",
       "      <th>3</th>\n",
       "      <td>2015-12-06</td>\n",
       "      <td>1.08</td>\n",
       "      <td>78992.15</td>\n",
       "      <td>1132.00</td>\n",
       "      <td>71976.41</td>\n",
       "      <td>72.58</td>\n",
       "      <td>5811.16</td>\n",
       "      <td>5677.40</td>\n",
       "      <td>133.76</td>\n",
       "      <td>0.0</td>\n",
       "      <td>conventional</td>\n",
       "      <td>2015</td>\n",
       "      <td>Albany</td>\n",
       "    </tr>\n",
       "    <tr>\n",
       "      <th>4</th>\n",
       "      <td>2015-11-29</td>\n",
       "      <td>1.28</td>\n",
       "      <td>51039.60</td>\n",
       "      <td>941.48</td>\n",
       "      <td>43838.39</td>\n",
       "      <td>75.78</td>\n",
       "      <td>6183.95</td>\n",
       "      <td>5986.26</td>\n",
       "      <td>197.69</td>\n",
       "      <td>0.0</td>\n",
       "      <td>conventional</td>\n",
       "      <td>2015</td>\n",
       "      <td>Albany</td>\n",
       "    </tr>\n",
       "  </tbody>\n",
       "</table>\n",
       "</div>"
      ],
      "text/plain": [
       "         Date  AveragePrice  Total Volume     4046       4225    4770  \\\n",
       "0  2015-12-27          1.33      64236.62  1036.74   54454.85   48.16   \n",
       "1  2015-12-20          1.35      54876.98   674.28   44638.81   58.33   \n",
       "2  2015-12-13          0.93     118220.22   794.70  109149.67  130.50   \n",
       "3  2015-12-06          1.08      78992.15  1132.00   71976.41   72.58   \n",
       "4  2015-11-29          1.28      51039.60   941.48   43838.39   75.78   \n",
       "\n",
       "   Total Bags  Small Bags  Large Bags  XLarge Bags          type  year  region  \n",
       "0     8696.87     8603.62       93.25          0.0  conventional  2015  Albany  \n",
       "1     9505.56     9408.07       97.49          0.0  conventional  2015  Albany  \n",
       "2     8145.35     8042.21      103.14          0.0  conventional  2015  Albany  \n",
       "3     5811.16     5677.40      133.76          0.0  conventional  2015  Albany  \n",
       "4     6183.95     5986.26      197.69          0.0  conventional  2015  Albany  "
      ]
     },
     "execution_count": 107,
     "metadata": {},
     "output_type": "execute_result"
    }
   ],
   "source": [
    "df.drop('Unnamed: 0', inplace=True,axis=1)\n",
    "df.head()"
   ]
  },
  {
   "cell_type": "code",
   "execution_count": 108,
   "id": "4cf2f487",
   "metadata": {},
   "outputs": [
    {
     "data": {
      "text/plain": [
       "(18249, 13)"
      ]
     },
     "execution_count": 108,
     "metadata": {},
     "output_type": "execute_result"
    }
   ],
   "source": [
    "df.shape"
   ]
  },
  {
   "cell_type": "code",
   "execution_count": 109,
   "id": "a9976d75",
   "metadata": {},
   "outputs": [
    {
     "data": {
      "text/plain": [
       "Index(['Date', 'AveragePrice', 'Total Volume', '4046', '4225', '4770',\n",
       "       'Total Bags', 'Small Bags', 'Large Bags', 'XLarge Bags', 'type', 'year',\n",
       "       'region'],\n",
       "      dtype='object')"
      ]
     },
     "execution_count": 109,
     "metadata": {},
     "output_type": "execute_result"
    }
   ],
   "source": [
    "df.columns"
   ]
  },
  {
   "cell_type": "code",
   "execution_count": 110,
   "id": "f26922e6",
   "metadata": {},
   "outputs": [
    {
     "name": "stdout",
     "output_type": "stream",
     "text": [
      "<class 'pandas.core.frame.DataFrame'>\n",
      "RangeIndex: 18249 entries, 0 to 18248\n",
      "Data columns (total 13 columns):\n",
      " #   Column        Non-Null Count  Dtype  \n",
      "---  ------        --------------  -----  \n",
      " 0   Date          18249 non-null  object \n",
      " 1   AveragePrice  18249 non-null  float64\n",
      " 2   Total Volume  18249 non-null  float64\n",
      " 3   4046          18249 non-null  float64\n",
      " 4   4225          18249 non-null  float64\n",
      " 5   4770          18249 non-null  float64\n",
      " 6   Total Bags    18249 non-null  float64\n",
      " 7   Small Bags    18249 non-null  float64\n",
      " 8   Large Bags    18249 non-null  float64\n",
      " 9   XLarge Bags   18249 non-null  float64\n",
      " 10  type          18249 non-null  object \n",
      " 11  year          18249 non-null  int64  \n",
      " 12  region        18249 non-null  object \n",
      "dtypes: float64(9), int64(1), object(3)\n",
      "memory usage: 1.8+ MB\n"
     ]
    }
   ],
   "source": [
    "df.info()"
   ]
  },
  {
   "cell_type": "markdown",
   "id": "1ac42854",
   "metadata": {},
   "source": [
    "Lets Check the NaN values"
   ]
  },
  {
   "cell_type": "code",
   "execution_count": 111,
   "id": "f521b1f0",
   "metadata": {},
   "outputs": [
    {
     "data": {
      "text/plain": [
       "Date            0\n",
       "AveragePrice    0\n",
       "Total Volume    0\n",
       "4046            0\n",
       "4225            0\n",
       "4770            0\n",
       "Total Bags      0\n",
       "Small Bags      0\n",
       "Large Bags      0\n",
       "XLarge Bags     0\n",
       "type            0\n",
       "year            0\n",
       "region          0\n",
       "dtype: int64"
      ]
     },
     "execution_count": 111,
     "metadata": {},
     "output_type": "execute_result"
    }
   ],
   "source": [
    "df.isna().sum()"
   ]
  },
  {
   "cell_type": "markdown",
   "id": "b2a9506e",
   "metadata": {},
   "source": [
    "There is no Null values in the data Lets check for the correlation of the data"
   ]
  },
  {
   "cell_type": "code",
   "execution_count": 112,
   "id": "09a2f7b3",
   "metadata": {},
   "outputs": [
    {
     "data": {
      "text/plain": [
       "conventional    9126\n",
       "organic         9123\n",
       "Name: type, dtype: int64"
      ]
     },
     "execution_count": 112,
     "metadata": {},
     "output_type": "execute_result"
    }
   ],
   "source": [
    "#checking the value counts of each type\n",
    "df.type.value_counts()"
   ]
  },
  {
   "cell_type": "code",
   "execution_count": 113,
   "id": "cd748348",
   "metadata": {},
   "outputs": [
    {
     "data": {
      "text/html": [
       "<div>\n",
       "<style scoped>\n",
       "    .dataframe tbody tr th:only-of-type {\n",
       "        vertical-align: middle;\n",
       "    }\n",
       "\n",
       "    .dataframe tbody tr th {\n",
       "        vertical-align: top;\n",
       "    }\n",
       "\n",
       "    .dataframe thead th {\n",
       "        text-align: right;\n",
       "    }\n",
       "</style>\n",
       "<table border=\"1\" class=\"dataframe\">\n",
       "  <thead>\n",
       "    <tr style=\"text-align: right;\">\n",
       "      <th></th>\n",
       "      <th>Total Volume</th>\n",
       "      <th>Total Bags</th>\n",
       "    </tr>\n",
       "  </thead>\n",
       "  <tbody>\n",
       "    <tr>\n",
       "      <th>Total Volume</th>\n",
       "      <td>1.000000</td>\n",
       "      <td>0.963047</td>\n",
       "    </tr>\n",
       "    <tr>\n",
       "      <th>Total Bags</th>\n",
       "      <td>0.963047</td>\n",
       "      <td>1.000000</td>\n",
       "    </tr>\n",
       "  </tbody>\n",
       "</table>\n",
       "</div>"
      ],
      "text/plain": [
       "              Total Volume  Total Bags\n",
       "Total Volume      1.000000    0.963047\n",
       "Total Bags        0.963047    1.000000"
      ]
     },
     "execution_count": 113,
     "metadata": {},
     "output_type": "execute_result"
    }
   ],
   "source": [
    "#correlation of total volume to total bag\n",
    "df[['Total Volume','Total Bags']].corr()"
   ]
  },
  {
   "cell_type": "code",
   "execution_count": 114,
   "id": "fb0abf8e",
   "metadata": {},
   "outputs": [
    {
     "data": {
      "text/plain": [
       "year\n",
       "2015    7.810274e+05\n",
       "2016    8.584206e+05\n",
       "2017    8.623393e+05\n",
       "2018    1.066928e+06\n",
       "Name: Total Volume, dtype: float64"
      ]
     },
     "execution_count": 114,
     "metadata": {},
     "output_type": "execute_result"
    }
   ],
   "source": [
    "#checking the average year of volume of avacado per year\n",
    "df.groupby('year')['Total Volume'].mean()"
   ]
  },
  {
   "cell_type": "code",
   "execution_count": 115,
   "id": "5613e05e",
   "metadata": {},
   "outputs": [
    {
     "data": {
      "text/html": [
       "<div>\n",
       "<style scoped>\n",
       "    .dataframe tbody tr th:only-of-type {\n",
       "        vertical-align: middle;\n",
       "    }\n",
       "\n",
       "    .dataframe tbody tr th {\n",
       "        vertical-align: top;\n",
       "    }\n",
       "\n",
       "    .dataframe thead th {\n",
       "        text-align: right;\n",
       "    }\n",
       "</style>\n",
       "<table border=\"1\" class=\"dataframe\">\n",
       "  <thead>\n",
       "    <tr style=\"text-align: right;\">\n",
       "      <th></th>\n",
       "      <th>Date</th>\n",
       "      <th>AveragePrice</th>\n",
       "      <th>Total Volume</th>\n",
       "      <th>4046</th>\n",
       "      <th>4225</th>\n",
       "      <th>4770</th>\n",
       "      <th>Total Bags</th>\n",
       "      <th>Small Bags</th>\n",
       "      <th>Large Bags</th>\n",
       "      <th>XLarge Bags</th>\n",
       "      <th>type</th>\n",
       "      <th>year</th>\n",
       "      <th>region</th>\n",
       "    </tr>\n",
       "  </thead>\n",
       "  <tbody>\n",
       "    <tr>\n",
       "      <th>9126</th>\n",
       "      <td>2015-12-27</td>\n",
       "      <td>1.83</td>\n",
       "      <td>989.55</td>\n",
       "      <td>8.16</td>\n",
       "      <td>88.59</td>\n",
       "      <td>0.00</td>\n",
       "      <td>892.80</td>\n",
       "      <td>892.80</td>\n",
       "      <td>0.00</td>\n",
       "      <td>0.0</td>\n",
       "      <td>organic</td>\n",
       "      <td>2015</td>\n",
       "      <td>Albany</td>\n",
       "    </tr>\n",
       "    <tr>\n",
       "      <th>9127</th>\n",
       "      <td>2015-12-20</td>\n",
       "      <td>1.89</td>\n",
       "      <td>1163.03</td>\n",
       "      <td>30.24</td>\n",
       "      <td>172.14</td>\n",
       "      <td>0.00</td>\n",
       "      <td>960.65</td>\n",
       "      <td>960.65</td>\n",
       "      <td>0.00</td>\n",
       "      <td>0.0</td>\n",
       "      <td>organic</td>\n",
       "      <td>2015</td>\n",
       "      <td>Albany</td>\n",
       "    </tr>\n",
       "    <tr>\n",
       "      <th>9128</th>\n",
       "      <td>2015-12-13</td>\n",
       "      <td>1.85</td>\n",
       "      <td>995.96</td>\n",
       "      <td>10.44</td>\n",
       "      <td>178.70</td>\n",
       "      <td>0.00</td>\n",
       "      <td>806.82</td>\n",
       "      <td>806.82</td>\n",
       "      <td>0.00</td>\n",
       "      <td>0.0</td>\n",
       "      <td>organic</td>\n",
       "      <td>2015</td>\n",
       "      <td>Albany</td>\n",
       "    </tr>\n",
       "    <tr>\n",
       "      <th>9129</th>\n",
       "      <td>2015-12-06</td>\n",
       "      <td>1.84</td>\n",
       "      <td>1158.42</td>\n",
       "      <td>90.29</td>\n",
       "      <td>104.18</td>\n",
       "      <td>0.00</td>\n",
       "      <td>963.95</td>\n",
       "      <td>948.52</td>\n",
       "      <td>15.43</td>\n",
       "      <td>0.0</td>\n",
       "      <td>organic</td>\n",
       "      <td>2015</td>\n",
       "      <td>Albany</td>\n",
       "    </tr>\n",
       "    <tr>\n",
       "      <th>9130</th>\n",
       "      <td>2015-11-29</td>\n",
       "      <td>1.94</td>\n",
       "      <td>831.69</td>\n",
       "      <td>0.00</td>\n",
       "      <td>94.73</td>\n",
       "      <td>0.00</td>\n",
       "      <td>736.96</td>\n",
       "      <td>736.96</td>\n",
       "      <td>0.00</td>\n",
       "      <td>0.0</td>\n",
       "      <td>organic</td>\n",
       "      <td>2015</td>\n",
       "      <td>Albany</td>\n",
       "    </tr>\n",
       "    <tr>\n",
       "      <th>...</th>\n",
       "      <td>...</td>\n",
       "      <td>...</td>\n",
       "      <td>...</td>\n",
       "      <td>...</td>\n",
       "      <td>...</td>\n",
       "      <td>...</td>\n",
       "      <td>...</td>\n",
       "      <td>...</td>\n",
       "      <td>...</td>\n",
       "      <td>...</td>\n",
       "      <td>...</td>\n",
       "      <td>...</td>\n",
       "      <td>...</td>\n",
       "    </tr>\n",
       "    <tr>\n",
       "      <th>18244</th>\n",
       "      <td>2018-02-04</td>\n",
       "      <td>1.63</td>\n",
       "      <td>17074.83</td>\n",
       "      <td>2046.96</td>\n",
       "      <td>1529.20</td>\n",
       "      <td>0.00</td>\n",
       "      <td>13498.67</td>\n",
       "      <td>13066.82</td>\n",
       "      <td>431.85</td>\n",
       "      <td>0.0</td>\n",
       "      <td>organic</td>\n",
       "      <td>2018</td>\n",
       "      <td>WestTexNewMexico</td>\n",
       "    </tr>\n",
       "    <tr>\n",
       "      <th>18245</th>\n",
       "      <td>2018-01-28</td>\n",
       "      <td>1.71</td>\n",
       "      <td>13888.04</td>\n",
       "      <td>1191.70</td>\n",
       "      <td>3431.50</td>\n",
       "      <td>0.00</td>\n",
       "      <td>9264.84</td>\n",
       "      <td>8940.04</td>\n",
       "      <td>324.80</td>\n",
       "      <td>0.0</td>\n",
       "      <td>organic</td>\n",
       "      <td>2018</td>\n",
       "      <td>WestTexNewMexico</td>\n",
       "    </tr>\n",
       "    <tr>\n",
       "      <th>18246</th>\n",
       "      <td>2018-01-21</td>\n",
       "      <td>1.87</td>\n",
       "      <td>13766.76</td>\n",
       "      <td>1191.92</td>\n",
       "      <td>2452.79</td>\n",
       "      <td>727.94</td>\n",
       "      <td>9394.11</td>\n",
       "      <td>9351.80</td>\n",
       "      <td>42.31</td>\n",
       "      <td>0.0</td>\n",
       "      <td>organic</td>\n",
       "      <td>2018</td>\n",
       "      <td>WestTexNewMexico</td>\n",
       "    </tr>\n",
       "    <tr>\n",
       "      <th>18247</th>\n",
       "      <td>2018-01-14</td>\n",
       "      <td>1.93</td>\n",
       "      <td>16205.22</td>\n",
       "      <td>1527.63</td>\n",
       "      <td>2981.04</td>\n",
       "      <td>727.01</td>\n",
       "      <td>10969.54</td>\n",
       "      <td>10919.54</td>\n",
       "      <td>50.00</td>\n",
       "      <td>0.0</td>\n",
       "      <td>organic</td>\n",
       "      <td>2018</td>\n",
       "      <td>WestTexNewMexico</td>\n",
       "    </tr>\n",
       "    <tr>\n",
       "      <th>18248</th>\n",
       "      <td>2018-01-07</td>\n",
       "      <td>1.62</td>\n",
       "      <td>17489.58</td>\n",
       "      <td>2894.77</td>\n",
       "      <td>2356.13</td>\n",
       "      <td>224.53</td>\n",
       "      <td>12014.15</td>\n",
       "      <td>11988.14</td>\n",
       "      <td>26.01</td>\n",
       "      <td>0.0</td>\n",
       "      <td>organic</td>\n",
       "      <td>2018</td>\n",
       "      <td>WestTexNewMexico</td>\n",
       "    </tr>\n",
       "  </tbody>\n",
       "</table>\n",
       "<p>9123 rows × 13 columns</p>\n",
       "</div>"
      ],
      "text/plain": [
       "             Date  AveragePrice  Total Volume     4046     4225    4770  \\\n",
       "9126   2015-12-27          1.83        989.55     8.16    88.59    0.00   \n",
       "9127   2015-12-20          1.89       1163.03    30.24   172.14    0.00   \n",
       "9128   2015-12-13          1.85        995.96    10.44   178.70    0.00   \n",
       "9129   2015-12-06          1.84       1158.42    90.29   104.18    0.00   \n",
       "9130   2015-11-29          1.94        831.69     0.00    94.73    0.00   \n",
       "...           ...           ...           ...      ...      ...     ...   \n",
       "18244  2018-02-04          1.63      17074.83  2046.96  1529.20    0.00   \n",
       "18245  2018-01-28          1.71      13888.04  1191.70  3431.50    0.00   \n",
       "18246  2018-01-21          1.87      13766.76  1191.92  2452.79  727.94   \n",
       "18247  2018-01-14          1.93      16205.22  1527.63  2981.04  727.01   \n",
       "18248  2018-01-07          1.62      17489.58  2894.77  2356.13  224.53   \n",
       "\n",
       "       Total Bags  Small Bags  Large Bags  XLarge Bags     type  year  \\\n",
       "9126       892.80      892.80        0.00          0.0  organic  2015   \n",
       "9127       960.65      960.65        0.00          0.0  organic  2015   \n",
       "9128       806.82      806.82        0.00          0.0  organic  2015   \n",
       "9129       963.95      948.52       15.43          0.0  organic  2015   \n",
       "9130       736.96      736.96        0.00          0.0  organic  2015   \n",
       "...           ...         ...         ...          ...      ...   ...   \n",
       "18244    13498.67    13066.82      431.85          0.0  organic  2018   \n",
       "18245     9264.84     8940.04      324.80          0.0  organic  2018   \n",
       "18246     9394.11     9351.80       42.31          0.0  organic  2018   \n",
       "18247    10969.54    10919.54       50.00          0.0  organic  2018   \n",
       "18248    12014.15    11988.14       26.01          0.0  organic  2018   \n",
       "\n",
       "                 region  \n",
       "9126             Albany  \n",
       "9127             Albany  \n",
       "9128             Albany  \n",
       "9129             Albany  \n",
       "9130             Albany  \n",
       "...                 ...  \n",
       "18244  WestTexNewMexico  \n",
       "18245  WestTexNewMexico  \n",
       "18246  WestTexNewMexico  \n",
       "18247  WestTexNewMexico  \n",
       "18248  WestTexNewMexico  \n",
       "\n",
       "[9123 rows x 13 columns]"
      ]
     },
     "execution_count": 115,
     "metadata": {},
     "output_type": "execute_result"
    }
   ],
   "source": [
    "#checking the organic type of avacado \n",
    "organic = df[df['type'] == 'organic']\n",
    "organic"
   ]
  },
  {
   "cell_type": "code",
   "execution_count": 116,
   "id": "d11069ce",
   "metadata": {},
   "outputs": [
    {
     "data": {
      "text/plain": [
       "year\n",
       "2015    1.375590\n",
       "2016    1.338640\n",
       "2017    1.515128\n",
       "2018    1.347531\n",
       "Name: AveragePrice, dtype: float64"
      ]
     },
     "execution_count": 116,
     "metadata": {},
     "output_type": "execute_result"
    }
   ],
   "source": [
    "df.groupby('year')['AveragePrice'].mean()"
   ]
  },
  {
   "cell_type": "code",
   "execution_count": 117,
   "id": "c2641e0f",
   "metadata": {},
   "outputs": [
    {
     "data": {
      "text/plain": [
       "year  type        \n",
       "2015  conventional    2808\n",
       "      organic         2807\n",
       "2016  conventional    2808\n",
       "      organic         2808\n",
       "2017  conventional    2862\n",
       "      organic         2860\n",
       "2018  conventional     648\n",
       "      organic          648\n",
       "Name: type, dtype: int64"
      ]
     },
     "execution_count": 117,
     "metadata": {},
     "output_type": "execute_result"
    }
   ],
   "source": [
    "df.groupby('year')['type'].value_counts()"
   ]
  },
  {
   "cell_type": "code",
   "execution_count": 118,
   "id": "f03fb7d5",
   "metadata": {},
   "outputs": [
    {
     "data": {
      "text/plain": [
       "year\n",
       "2015    5615\n",
       "2016    5616\n",
       "2017    5722\n",
       "2018    1296\n",
       "Name: Total Volume, dtype: int64"
      ]
     },
     "execution_count": 118,
     "metadata": {},
     "output_type": "execute_result"
    }
   ],
   "source": [
    "#total no of sale in each year of  4 years\n",
    "df.groupby('year')['Total Volume'].count()"
   ]
  },
  {
   "cell_type": "code",
   "execution_count": 119,
   "id": "14b9335e",
   "metadata": {},
   "outputs": [
    {
     "data": {
      "text/html": [
       "<div>\n",
       "<style scoped>\n",
       "    .dataframe tbody tr th:only-of-type {\n",
       "        vertical-align: middle;\n",
       "    }\n",
       "\n",
       "    .dataframe tbody tr th {\n",
       "        vertical-align: top;\n",
       "    }\n",
       "\n",
       "    .dataframe thead th {\n",
       "        text-align: right;\n",
       "    }\n",
       "</style>\n",
       "<table border=\"1\" class=\"dataframe\">\n",
       "  <thead>\n",
       "    <tr style=\"text-align: right;\">\n",
       "      <th></th>\n",
       "      <th>AveragePrice</th>\n",
       "      <th>Total Volume</th>\n",
       "      <th>4046</th>\n",
       "      <th>4225</th>\n",
       "      <th>4770</th>\n",
       "      <th>Total Bags</th>\n",
       "      <th>Small Bags</th>\n",
       "      <th>Large Bags</th>\n",
       "      <th>XLarge Bags</th>\n",
       "      <th>year</th>\n",
       "    </tr>\n",
       "  </thead>\n",
       "  <tbody>\n",
       "    <tr>\n",
       "      <th>count</th>\n",
       "      <td>18249.000000</td>\n",
       "      <td>1.824900e+04</td>\n",
       "      <td>1.824900e+04</td>\n",
       "      <td>1.824900e+04</td>\n",
       "      <td>1.824900e+04</td>\n",
       "      <td>1.824900e+04</td>\n",
       "      <td>1.824900e+04</td>\n",
       "      <td>1.824900e+04</td>\n",
       "      <td>18249.000000</td>\n",
       "      <td>18249.000000</td>\n",
       "    </tr>\n",
       "    <tr>\n",
       "      <th>mean</th>\n",
       "      <td>1.405978</td>\n",
       "      <td>8.506440e+05</td>\n",
       "      <td>2.930084e+05</td>\n",
       "      <td>2.951546e+05</td>\n",
       "      <td>2.283974e+04</td>\n",
       "      <td>2.396392e+05</td>\n",
       "      <td>1.821947e+05</td>\n",
       "      <td>5.433809e+04</td>\n",
       "      <td>3106.426507</td>\n",
       "      <td>2016.147899</td>\n",
       "    </tr>\n",
       "    <tr>\n",
       "      <th>std</th>\n",
       "      <td>0.402677</td>\n",
       "      <td>3.453545e+06</td>\n",
       "      <td>1.264989e+06</td>\n",
       "      <td>1.204120e+06</td>\n",
       "      <td>1.074641e+05</td>\n",
       "      <td>9.862424e+05</td>\n",
       "      <td>7.461785e+05</td>\n",
       "      <td>2.439660e+05</td>\n",
       "      <td>17692.894652</td>\n",
       "      <td>0.939938</td>\n",
       "    </tr>\n",
       "    <tr>\n",
       "      <th>min</th>\n",
       "      <td>0.440000</td>\n",
       "      <td>8.456000e+01</td>\n",
       "      <td>0.000000e+00</td>\n",
       "      <td>0.000000e+00</td>\n",
       "      <td>0.000000e+00</td>\n",
       "      <td>0.000000e+00</td>\n",
       "      <td>0.000000e+00</td>\n",
       "      <td>0.000000e+00</td>\n",
       "      <td>0.000000</td>\n",
       "      <td>2015.000000</td>\n",
       "    </tr>\n",
       "    <tr>\n",
       "      <th>25%</th>\n",
       "      <td>1.100000</td>\n",
       "      <td>1.083858e+04</td>\n",
       "      <td>8.540700e+02</td>\n",
       "      <td>3.008780e+03</td>\n",
       "      <td>0.000000e+00</td>\n",
       "      <td>5.088640e+03</td>\n",
       "      <td>2.849420e+03</td>\n",
       "      <td>1.274700e+02</td>\n",
       "      <td>0.000000</td>\n",
       "      <td>2015.000000</td>\n",
       "    </tr>\n",
       "    <tr>\n",
       "      <th>50%</th>\n",
       "      <td>1.370000</td>\n",
       "      <td>1.073768e+05</td>\n",
       "      <td>8.645300e+03</td>\n",
       "      <td>2.906102e+04</td>\n",
       "      <td>1.849900e+02</td>\n",
       "      <td>3.974383e+04</td>\n",
       "      <td>2.636282e+04</td>\n",
       "      <td>2.647710e+03</td>\n",
       "      <td>0.000000</td>\n",
       "      <td>2016.000000</td>\n",
       "    </tr>\n",
       "    <tr>\n",
       "      <th>75%</th>\n",
       "      <td>1.660000</td>\n",
       "      <td>4.329623e+05</td>\n",
       "      <td>1.110202e+05</td>\n",
       "      <td>1.502069e+05</td>\n",
       "      <td>6.243420e+03</td>\n",
       "      <td>1.107834e+05</td>\n",
       "      <td>8.333767e+04</td>\n",
       "      <td>2.202925e+04</td>\n",
       "      <td>132.500000</td>\n",
       "      <td>2017.000000</td>\n",
       "    </tr>\n",
       "    <tr>\n",
       "      <th>max</th>\n",
       "      <td>3.250000</td>\n",
       "      <td>6.250565e+07</td>\n",
       "      <td>2.274362e+07</td>\n",
       "      <td>2.047057e+07</td>\n",
       "      <td>2.546439e+06</td>\n",
       "      <td>1.937313e+07</td>\n",
       "      <td>1.338459e+07</td>\n",
       "      <td>5.719097e+06</td>\n",
       "      <td>551693.650000</td>\n",
       "      <td>2018.000000</td>\n",
       "    </tr>\n",
       "  </tbody>\n",
       "</table>\n",
       "</div>"
      ],
      "text/plain": [
       "       AveragePrice  Total Volume          4046          4225          4770  \\\n",
       "count  18249.000000  1.824900e+04  1.824900e+04  1.824900e+04  1.824900e+04   \n",
       "mean       1.405978  8.506440e+05  2.930084e+05  2.951546e+05  2.283974e+04   \n",
       "std        0.402677  3.453545e+06  1.264989e+06  1.204120e+06  1.074641e+05   \n",
       "min        0.440000  8.456000e+01  0.000000e+00  0.000000e+00  0.000000e+00   \n",
       "25%        1.100000  1.083858e+04  8.540700e+02  3.008780e+03  0.000000e+00   \n",
       "50%        1.370000  1.073768e+05  8.645300e+03  2.906102e+04  1.849900e+02   \n",
       "75%        1.660000  4.329623e+05  1.110202e+05  1.502069e+05  6.243420e+03   \n",
       "max        3.250000  6.250565e+07  2.274362e+07  2.047057e+07  2.546439e+06   \n",
       "\n",
       "         Total Bags    Small Bags    Large Bags    XLarge Bags          year  \n",
       "count  1.824900e+04  1.824900e+04  1.824900e+04   18249.000000  18249.000000  \n",
       "mean   2.396392e+05  1.821947e+05  5.433809e+04    3106.426507   2016.147899  \n",
       "std    9.862424e+05  7.461785e+05  2.439660e+05   17692.894652      0.939938  \n",
       "min    0.000000e+00  0.000000e+00  0.000000e+00       0.000000   2015.000000  \n",
       "25%    5.088640e+03  2.849420e+03  1.274700e+02       0.000000   2015.000000  \n",
       "50%    3.974383e+04  2.636282e+04  2.647710e+03       0.000000   2016.000000  \n",
       "75%    1.107834e+05  8.333767e+04  2.202925e+04     132.500000   2017.000000  \n",
       "max    1.937313e+07  1.338459e+07  5.719097e+06  551693.650000   2018.000000  "
      ]
     },
     "execution_count": 119,
     "metadata": {},
     "output_type": "execute_result"
    }
   ],
   "source": [
    "df.describe()"
   ]
  },
  {
   "cell_type": "markdown",
   "id": "44dda408",
   "metadata": {},
   "source": [
    "Above data shows that, multiple outliers predsent mostly in XLargeBags."
   ]
  },
  {
   "cell_type": "markdown",
   "id": "71e6b306",
   "metadata": {},
   "source": [
    "WE WILL DIVIDE DATE COLUMN INTO TWO CATEGORIES WHICH WILL HELP IN OUR ANALYSIS"
   ]
  },
  {
   "cell_type": "code",
   "execution_count": 120,
   "id": "d0b2bada",
   "metadata": {},
   "outputs": [
    {
     "data": {
      "text/html": [
       "<div>\n",
       "<style scoped>\n",
       "    .dataframe tbody tr th:only-of-type {\n",
       "        vertical-align: middle;\n",
       "    }\n",
       "\n",
       "    .dataframe tbody tr th {\n",
       "        vertical-align: top;\n",
       "    }\n",
       "\n",
       "    .dataframe thead th {\n",
       "        text-align: right;\n",
       "    }\n",
       "</style>\n",
       "<table border=\"1\" class=\"dataframe\">\n",
       "  <thead>\n",
       "    <tr style=\"text-align: right;\">\n",
       "      <th></th>\n",
       "      <th>AveragePrice</th>\n",
       "      <th>Total Volume</th>\n",
       "      <th>4046</th>\n",
       "      <th>4225</th>\n",
       "      <th>4770</th>\n",
       "      <th>Total Bags</th>\n",
       "      <th>Small Bags</th>\n",
       "      <th>Large Bags</th>\n",
       "      <th>XLarge Bags</th>\n",
       "      <th>type</th>\n",
       "      <th>year</th>\n",
       "      <th>region</th>\n",
       "      <th>Date_day</th>\n",
       "      <th>Date_month</th>\n",
       "    </tr>\n",
       "  </thead>\n",
       "  <tbody>\n",
       "    <tr>\n",
       "      <th>0</th>\n",
       "      <td>1.33</td>\n",
       "      <td>64236.62</td>\n",
       "      <td>1036.74</td>\n",
       "      <td>54454.85</td>\n",
       "      <td>48.16</td>\n",
       "      <td>8696.87</td>\n",
       "      <td>8603.62</td>\n",
       "      <td>93.25</td>\n",
       "      <td>0.0</td>\n",
       "      <td>conventional</td>\n",
       "      <td>2015</td>\n",
       "      <td>Albany</td>\n",
       "      <td>27</td>\n",
       "      <td>12</td>\n",
       "    </tr>\n",
       "    <tr>\n",
       "      <th>1</th>\n",
       "      <td>1.35</td>\n",
       "      <td>54876.98</td>\n",
       "      <td>674.28</td>\n",
       "      <td>44638.81</td>\n",
       "      <td>58.33</td>\n",
       "      <td>9505.56</td>\n",
       "      <td>9408.07</td>\n",
       "      <td>97.49</td>\n",
       "      <td>0.0</td>\n",
       "      <td>conventional</td>\n",
       "      <td>2015</td>\n",
       "      <td>Albany</td>\n",
       "      <td>20</td>\n",
       "      <td>12</td>\n",
       "    </tr>\n",
       "    <tr>\n",
       "      <th>2</th>\n",
       "      <td>0.93</td>\n",
       "      <td>118220.22</td>\n",
       "      <td>794.70</td>\n",
       "      <td>109149.67</td>\n",
       "      <td>130.50</td>\n",
       "      <td>8145.35</td>\n",
       "      <td>8042.21</td>\n",
       "      <td>103.14</td>\n",
       "      <td>0.0</td>\n",
       "      <td>conventional</td>\n",
       "      <td>2015</td>\n",
       "      <td>Albany</td>\n",
       "      <td>13</td>\n",
       "      <td>12</td>\n",
       "    </tr>\n",
       "    <tr>\n",
       "      <th>3</th>\n",
       "      <td>1.08</td>\n",
       "      <td>78992.15</td>\n",
       "      <td>1132.00</td>\n",
       "      <td>71976.41</td>\n",
       "      <td>72.58</td>\n",
       "      <td>5811.16</td>\n",
       "      <td>5677.40</td>\n",
       "      <td>133.76</td>\n",
       "      <td>0.0</td>\n",
       "      <td>conventional</td>\n",
       "      <td>2015</td>\n",
       "      <td>Albany</td>\n",
       "      <td>6</td>\n",
       "      <td>12</td>\n",
       "    </tr>\n",
       "    <tr>\n",
       "      <th>4</th>\n",
       "      <td>1.28</td>\n",
       "      <td>51039.60</td>\n",
       "      <td>941.48</td>\n",
       "      <td>43838.39</td>\n",
       "      <td>75.78</td>\n",
       "      <td>6183.95</td>\n",
       "      <td>5986.26</td>\n",
       "      <td>197.69</td>\n",
       "      <td>0.0</td>\n",
       "      <td>conventional</td>\n",
       "      <td>2015</td>\n",
       "      <td>Albany</td>\n",
       "      <td>29</td>\n",
       "      <td>11</td>\n",
       "    </tr>\n",
       "    <tr>\n",
       "      <th>...</th>\n",
       "      <td>...</td>\n",
       "      <td>...</td>\n",
       "      <td>...</td>\n",
       "      <td>...</td>\n",
       "      <td>...</td>\n",
       "      <td>...</td>\n",
       "      <td>...</td>\n",
       "      <td>...</td>\n",
       "      <td>...</td>\n",
       "      <td>...</td>\n",
       "      <td>...</td>\n",
       "      <td>...</td>\n",
       "      <td>...</td>\n",
       "      <td>...</td>\n",
       "    </tr>\n",
       "    <tr>\n",
       "      <th>18244</th>\n",
       "      <td>1.63</td>\n",
       "      <td>17074.83</td>\n",
       "      <td>2046.96</td>\n",
       "      <td>1529.20</td>\n",
       "      <td>0.00</td>\n",
       "      <td>13498.67</td>\n",
       "      <td>13066.82</td>\n",
       "      <td>431.85</td>\n",
       "      <td>0.0</td>\n",
       "      <td>organic</td>\n",
       "      <td>2018</td>\n",
       "      <td>WestTexNewMexico</td>\n",
       "      <td>4</td>\n",
       "      <td>2</td>\n",
       "    </tr>\n",
       "    <tr>\n",
       "      <th>18245</th>\n",
       "      <td>1.71</td>\n",
       "      <td>13888.04</td>\n",
       "      <td>1191.70</td>\n",
       "      <td>3431.50</td>\n",
       "      <td>0.00</td>\n",
       "      <td>9264.84</td>\n",
       "      <td>8940.04</td>\n",
       "      <td>324.80</td>\n",
       "      <td>0.0</td>\n",
       "      <td>organic</td>\n",
       "      <td>2018</td>\n",
       "      <td>WestTexNewMexico</td>\n",
       "      <td>28</td>\n",
       "      <td>1</td>\n",
       "    </tr>\n",
       "    <tr>\n",
       "      <th>18246</th>\n",
       "      <td>1.87</td>\n",
       "      <td>13766.76</td>\n",
       "      <td>1191.92</td>\n",
       "      <td>2452.79</td>\n",
       "      <td>727.94</td>\n",
       "      <td>9394.11</td>\n",
       "      <td>9351.80</td>\n",
       "      <td>42.31</td>\n",
       "      <td>0.0</td>\n",
       "      <td>organic</td>\n",
       "      <td>2018</td>\n",
       "      <td>WestTexNewMexico</td>\n",
       "      <td>21</td>\n",
       "      <td>1</td>\n",
       "    </tr>\n",
       "    <tr>\n",
       "      <th>18247</th>\n",
       "      <td>1.93</td>\n",
       "      <td>16205.22</td>\n",
       "      <td>1527.63</td>\n",
       "      <td>2981.04</td>\n",
       "      <td>727.01</td>\n",
       "      <td>10969.54</td>\n",
       "      <td>10919.54</td>\n",
       "      <td>50.00</td>\n",
       "      <td>0.0</td>\n",
       "      <td>organic</td>\n",
       "      <td>2018</td>\n",
       "      <td>WestTexNewMexico</td>\n",
       "      <td>14</td>\n",
       "      <td>1</td>\n",
       "    </tr>\n",
       "    <tr>\n",
       "      <th>18248</th>\n",
       "      <td>1.62</td>\n",
       "      <td>17489.58</td>\n",
       "      <td>2894.77</td>\n",
       "      <td>2356.13</td>\n",
       "      <td>224.53</td>\n",
       "      <td>12014.15</td>\n",
       "      <td>11988.14</td>\n",
       "      <td>26.01</td>\n",
       "      <td>0.0</td>\n",
       "      <td>organic</td>\n",
       "      <td>2018</td>\n",
       "      <td>WestTexNewMexico</td>\n",
       "      <td>7</td>\n",
       "      <td>1</td>\n",
       "    </tr>\n",
       "  </tbody>\n",
       "</table>\n",
       "<p>18249 rows × 14 columns</p>\n",
       "</div>"
      ],
      "text/plain": [
       "       AveragePrice  Total Volume     4046       4225    4770  Total Bags  \\\n",
       "0              1.33      64236.62  1036.74   54454.85   48.16     8696.87   \n",
       "1              1.35      54876.98   674.28   44638.81   58.33     9505.56   \n",
       "2              0.93     118220.22   794.70  109149.67  130.50     8145.35   \n",
       "3              1.08      78992.15  1132.00   71976.41   72.58     5811.16   \n",
       "4              1.28      51039.60   941.48   43838.39   75.78     6183.95   \n",
       "...             ...           ...      ...        ...     ...         ...   \n",
       "18244          1.63      17074.83  2046.96    1529.20    0.00    13498.67   \n",
       "18245          1.71      13888.04  1191.70    3431.50    0.00     9264.84   \n",
       "18246          1.87      13766.76  1191.92    2452.79  727.94     9394.11   \n",
       "18247          1.93      16205.22  1527.63    2981.04  727.01    10969.54   \n",
       "18248          1.62      17489.58  2894.77    2356.13  224.53    12014.15   \n",
       "\n",
       "       Small Bags  Large Bags  XLarge Bags          type  year  \\\n",
       "0         8603.62       93.25          0.0  conventional  2015   \n",
       "1         9408.07       97.49          0.0  conventional  2015   \n",
       "2         8042.21      103.14          0.0  conventional  2015   \n",
       "3         5677.40      133.76          0.0  conventional  2015   \n",
       "4         5986.26      197.69          0.0  conventional  2015   \n",
       "...           ...         ...          ...           ...   ...   \n",
       "18244    13066.82      431.85          0.0       organic  2018   \n",
       "18245     8940.04      324.80          0.0       organic  2018   \n",
       "18246     9351.80       42.31          0.0       organic  2018   \n",
       "18247    10919.54       50.00          0.0       organic  2018   \n",
       "18248    11988.14       26.01          0.0       organic  2018   \n",
       "\n",
       "                 region  Date_day  Date_month  \n",
       "0                Albany        27          12  \n",
       "1                Albany        20          12  \n",
       "2                Albany        13          12  \n",
       "3                Albany         6          12  \n",
       "4                Albany        29          11  \n",
       "...                 ...       ...         ...  \n",
       "18244  WestTexNewMexico         4           2  \n",
       "18245  WestTexNewMexico        28           1  \n",
       "18246  WestTexNewMexico        21           1  \n",
       "18247  WestTexNewMexico        14           1  \n",
       "18248  WestTexNewMexico         7           1  \n",
       "\n",
       "[18249 rows x 14 columns]"
      ]
     },
     "execution_count": 120,
     "metadata": {},
     "output_type": "execute_result"
    }
   ],
   "source": [
    "df.Date = pd.to_datetime(df.Date)\n",
    "Day = df.Date.dt.day.to_frame()\n",
    "month = df.Date.dt.month.to_frame()\n",
    "\n",
    "Date= Day.join(month, how='right', lsuffix='_day', rsuffix=\"_month\")\n",
    "df = df.join(Date, how= \"left\")\n",
    "df.drop(\"Date\", inplace = True, axis = 1)\n",
    "df"
   ]
  },
  {
   "cell_type": "code",
   "execution_count": 121,
   "id": "2443541f",
   "metadata": {},
   "outputs": [
    {
     "data": {
      "text/plain": [
       "<AxesSubplot:xlabel='year', ylabel='AveragePrice'>"
      ]
     },
     "execution_count": 121,
     "metadata": {},
     "output_type": "execute_result"
    },
    {
     "data": {
      "image/png": "[encoded data removed]",
      "text/plain": [
       "<Figure size 432x288 with 1 Axes>"
      ]
     },
     "metadata": {
      "needs_background": "light"
     },
     "output_type": "display_data"
    }
   ],
   "source": [
    "#checking for ratio of year and price.\n",
    "\n",
    "sns.barplot(x='year', y='AveragePrice', data=df)"
   ]
  },
  {
   "cell_type": "markdown",
   "id": "edef01fa",
   "metadata": {},
   "source": [
    "graph shows that in 2017 there was the maximum average price for avocado. "
   ]
  },
  {
   "cell_type": "code",
   "execution_count": 122,
   "id": "35487cdf",
   "metadata": {
    "scrolled": true
   },
   "outputs": [
    {
     "data": {
      "text/plain": [
       "<AxesSubplot:xlabel='Date_month', ylabel='AveragePrice'>"
      ]
     },
     "execution_count": 122,
     "metadata": {},
     "output_type": "execute_result"
    },
    {
     "data": {
      "image/png": "[encoded data removed]",
      "text/plain": [
       "<Figure size 432x288 with 1 Axes>"
      ]
     },
     "metadata": {
      "needs_background": "light"
     },
     "output_type": "display_data"
    }
   ],
   "source": [
    "sns.barplot(x='Date_month', y='AveragePrice', data=df)"
   ]
  },
  {
   "cell_type": "markdown",
   "id": "4782ca94",
   "metadata": {},
   "source": [
    "# Observation"
   ]
  },
  {
   "cell_type": "markdown",
   "id": "48eb0768",
   "metadata": {},
   "source": [
    "In Year 2017, the price is maximum as compared to other year.\n",
    "\n",
    "September and October had the maximum average price."
   ]
  },
  {
   "cell_type": "code",
   "execution_count": 123,
   "id": "7e6474b3",
   "metadata": {},
   "outputs": [
    {
     "data": {
      "text/plain": [
       "<AxesSubplot:xlabel='year', ylabel='AveragePrice'>"
      ]
     },
     "execution_count": 123,
     "metadata": {},
     "output_type": "execute_result"
    },
    {
     "data": {
      "image/png": "[encoded data removed]",
      "text/plain": [
       "<Figure size 432x288 with 1 Axes>"
      ]
     },
     "metadata": {
      "needs_background": "light"
     },
     "output_type": "display_data"
    }
   ],
   "source": [
    "sns.lineplot(x = 'year', y = 'AveragePrice', data=df)"
   ]
  },
  {
   "cell_type": "code",
   "execution_count": 124,
   "id": "b4bc2631",
   "metadata": {},
   "outputs": [
    {
     "data": {
      "text/plain": [
       "<AxesSubplot:xlabel='type', ylabel='AveragePrice'>"
      ]
     },
     "execution_count": 124,
     "metadata": {},
     "output_type": "execute_result"
    },
    {
     "data": {
      "image/png": "[encoded data removed]",
      "text/plain": [
       "<Figure size 432x288 with 1 Axes>"
      ]
     },
     "metadata": {
      "needs_background": "light"
     },
     "output_type": "display_data"
    }
   ],
   "source": [
    "#checking ratio of type and price that which year had max average price\n",
    "sns.barplot(x = \"type\" , y = \"AveragePrice\" ,data=df )"
   ]
  },
  {
   "cell_type": "markdown",
   "id": "cb5780b3",
   "metadata": {},
   "source": [
    "# As organic type of avacado is having the more price per unit then conventional"
   ]
  },
  {
   "cell_type": "code",
   "execution_count": 125,
   "id": "f3410624",
   "metadata": {
    "scrolled": true
   },
   "outputs": [
    {
     "data": {
      "image/png": "[encoded data removed]",
      "text/plain": [
       "<Figure size 720x576 with 1 Axes>"
      ]
     },
     "metadata": {
      "needs_background": "light"
     },
     "output_type": "display_data"
    }
   ],
   "source": [
    "plt.figure(figsize=(10,8))\n",
    "sns.lineplot(x='Date_month', y='AveragePrice',hue='type',data=df)\n",
    "plt.show()"
   ]
  },
  {
   "cell_type": "markdown",
   "id": "393543eb",
   "metadata": {},
   "source": [
    "Above graph shown that there is hike between month 8-10 of both type of avacado"
   ]
  },
  {
   "cell_type": "code",
   "execution_count": 126,
   "id": "c8838ab4",
   "metadata": {},
   "outputs": [
    {
     "data": {
      "image/png": "[encoded data removed]",
      "text/plain": [
       "<Figure size 720x576 with 1 Axes>"
      ]
     },
     "metadata": {
      "needs_background": "light"
     },
     "output_type": "display_data"
    }
   ],
   "source": [
    "plt.figure(figsize=(10,8))\n",
    "sns.lineplot(x='year', y='AveragePrice',hue='type',data=df)\n",
    "plt.show()"
   ]
  },
  {
   "cell_type": "markdown",
   "id": "35f74119",
   "metadata": {},
   "source": [
    "# Observation\n",
    "\n",
    "Average price of organic is higher than conventional and getting a peak on 2017 for both."
   ]
  },
  {
   "cell_type": "code",
   "execution_count": 127,
   "id": "ebc5bb3a",
   "metadata": {},
   "outputs": [
    {
     "data": {
      "text/plain": [
       "Text(0.5, 1.0, 'ration of Price and Region')"
      ]
     },
     "execution_count": 127,
     "metadata": {},
     "output_type": "execute_result"
    },
    {
     "data": {
      "image/png": "[encoded data removed]",
      "text/plain": [
       "<Figure size 1728x1080 with 1 Axes>"
      ]
     },
     "metadata": {
      "needs_background": "light"
     },
     "output_type": "display_data"
    }
   ],
   "source": [
    "plt.figure(figsize=(24,15))\n",
    "sns.barplot(x='region',y='AveragePrice',data=df)\n",
    "plt.xticks(rotation=90)\n",
    "plt.xlabel('Region')\n",
    "plt.ylabel('Average Price')\n",
    "plt.title('ration of Price and Region')"
   ]
  },
  {
   "cell_type": "markdown",
   "id": "43521570",
   "metadata": {},
   "source": [
    "Above graph is showing that HartfordSpringfield ,SanFrancisco and NewYork are having more average price as compared to other region"
   ]
  },
  {
   "cell_type": "code",
   "execution_count": 128,
   "id": "ba430245",
   "metadata": {},
   "outputs": [
    {
     "data": {
      "text/plain": [
       "Text(0.5, 1.0, 'Average_Price')"
      ]
     },
     "execution_count": 128,
     "metadata": {},
     "output_type": "execute_result"
    },
    {
     "data": {
      "image/png": "[encoded data removed]",
      "text/plain": [
       "<Figure size 864x720 with 1 Axes>"
      ]
     },
     "metadata": {
      "needs_background": "light"
     },
     "output_type": "display_data"
    }
   ],
   "source": [
    "month=df.groupby('Date_month').mean()\n",
    "plt.figure(figsize=(12,10))\n",
    "month['AveragePrice'].plot()\n",
    "plt.title('Average_Price')"
   ]
  },
  {
   "cell_type": "markdown",
   "id": "af602be2",
   "metadata": {},
   "source": [
    "In between august to october the price of avacado is much higher as comapared to other months"
   ]
  },
  {
   "cell_type": "code",
   "execution_count": 129,
   "id": "dcfe75db",
   "metadata": {},
   "outputs": [
    {
     "data": {
      "text/plain": [
       "array([[<AxesSubplot:title={'center':'AveragePrice'}>,\n",
       "        <AxesSubplot:title={'center':'Total Volume'}>,\n",
       "        <AxesSubplot:title={'center':'4046'}>,\n",
       "        <AxesSubplot:title={'center':'4225'}>],\n",
       "       [<AxesSubplot:title={'center':'4770'}>,\n",
       "        <AxesSubplot:title={'center':'Total Bags'}>,\n",
       "        <AxesSubplot:title={'center':'Small Bags'}>,\n",
       "        <AxesSubplot:title={'center':'Large Bags'}>],\n",
       "       [<AxesSubplot:title={'center':'XLarge Bags'}>,\n",
       "        <AxesSubplot:title={'center':'year'}>,\n",
       "        <AxesSubplot:title={'center':'Date_day'}>,\n",
       "        <AxesSubplot:title={'center':'Date_month'}>],\n",
       "       [<AxesSubplot:>, <AxesSubplot:>, <AxesSubplot:>, <AxesSubplot:>]],\n",
       "      dtype=object)"
      ]
     },
     "execution_count": 129,
     "metadata": {},
     "output_type": "execute_result"
    },
    {
     "data": {
      "image/png": "[encoded data removed]",
      "text/plain": [
       "<Figure size 1440x1440 with 16 Axes>"
      ]
     },
     "metadata": {
      "needs_background": "light"
     },
     "output_type": "display_data"
    }
   ],
   "source": [
    "df.hist(figsize=(20,20),grid=True,layout=(4,4),bins=10)"
   ]
  },
  {
   "cell_type": "markdown",
   "id": "07d7367a",
   "metadata": {},
   "source": [
    "# Observation\n",
    "\n",
    "Average price column is normally distributing over the histogram."
   ]
  },
  {
   "cell_type": "markdown",
   "id": "346c0ff4",
   "metadata": {},
   "source": [
    "# Checking for skewness"
   ]
  },
  {
   "cell_type": "code",
   "execution_count": 130,
   "id": "2bad5e25",
   "metadata": {
    "scrolled": true
   },
   "outputs": [
    {
     "data": {
      "text/plain": [
       "AveragePrice     0.580303\n",
       "Total Volume     9.007687\n",
       "4046             8.648220\n",
       "4225             8.942466\n",
       "4770            10.159396\n",
       "Total Bags       9.756072\n",
       "Small Bags       9.540660\n",
       "Large Bags       9.796455\n",
       "XLarge Bags     13.139751\n",
       "year             0.215339\n",
       "Date_day         0.014310\n",
       "Date_month       0.106617\n",
       "dtype: float64"
      ]
     },
     "execution_count": 130,
     "metadata": {},
     "output_type": "execute_result"
    }
   ],
   "source": [
    "df.skew()"
   ]
  },
  {
   "cell_type": "markdown",
   "id": "6d9c58db",
   "metadata": {},
   "source": [
    "Seems complete data is highly skewed.. Let's try to remove."
   ]
  },
  {
   "cell_type": "code",
   "execution_count": 131,
   "id": "d72955c9",
   "metadata": {},
   "outputs": [],
   "source": [
    "skew=('Total Volume','4046','4225','4770','Total Bags','Small Bags','Large Bags','XLarge Bags')\n",
    "for col in skew:\n",
    "    if df.skew().loc[col]>0.55:\n",
    "        df[col]=np.log1p(df[col])"
   ]
  },
  {
   "cell_type": "code",
   "execution_count": 132,
   "id": "14a23817",
   "metadata": {},
   "outputs": [
    {
     "data": {
      "text/plain": [
       "AveragePrice    0.580303\n",
       "Total Volume    0.088098\n",
       "4046           -0.328195\n",
       "4225           -0.486654\n",
       "4770            0.099986\n",
       "Total Bags     -0.218874\n",
       "Small Bags     -0.622148\n",
       "Large Bags     -0.547765\n",
       "XLarge Bags     1.176494\n",
       "year            0.215339\n",
       "Date_day        0.014310\n",
       "Date_month      0.106617\n",
       "dtype: float64"
      ]
     },
     "execution_count": 132,
     "metadata": {},
     "output_type": "execute_result"
    }
   ],
   "source": [
    "df.skew()"
   ]
  },
  {
   "cell_type": "code",
   "execution_count": 133,
   "id": "b6ad93f6",
   "metadata": {},
   "outputs": [
    {
     "data": {
      "text/plain": [
       "array([[<AxesSubplot:title={'center':'AveragePrice'}>,\n",
       "        <AxesSubplot:title={'center':'Total Volume'}>,\n",
       "        <AxesSubplot:title={'center':'4046'}>,\n",
       "        <AxesSubplot:title={'center':'4225'}>],\n",
       "       [<AxesSubplot:title={'center':'4770'}>,\n",
       "        <AxesSubplot:title={'center':'Total Bags'}>,\n",
       "        <AxesSubplot:title={'center':'Small Bags'}>,\n",
       "        <AxesSubplot:title={'center':'Large Bags'}>],\n",
       "       [<AxesSubplot:title={'center':'XLarge Bags'}>,\n",
       "        <AxesSubplot:title={'center':'year'}>,\n",
       "        <AxesSubplot:title={'center':'Date_day'}>,\n",
       "        <AxesSubplot:title={'center':'Date_month'}>],\n",
       "       [<AxesSubplot:>, <AxesSubplot:>, <AxesSubplot:>, <AxesSubplot:>]],\n",
       "      dtype=object)"
      ]
     },
     "execution_count": 133,
     "metadata": {},
     "output_type": "execute_result"
    },
    {
     "data": {
      "image/png": "[encoded data removed]",
      "text/plain": [
       "<Figure size 1440x1440 with 16 Axes>"
      ]
     },
     "metadata": {
      "needs_background": "light"
     },
     "output_type": "display_data"
    }
   ],
   "source": [
    "df.hist(figsize=(20,20), grid = True, layout = (4,4), bins = 30)"
   ]
  },
  {
   "cell_type": "markdown",
   "id": "be7c1085",
   "metadata": {},
   "source": [
    "# Now checking for Outliers"
   ]
  },
  {
   "cell_type": "code",
   "execution_count": 134,
   "id": "79c1675c",
   "metadata": {},
   "outputs": [
    {
     "data": {
      "text/plain": [
       "AveragePrice        AxesSubplot(0.125,0.71587;0.133621x0.16413)\n",
       "Total Volume     AxesSubplot(0.285345,0.71587;0.133621x0.16413)\n",
       "4046              AxesSubplot(0.44569,0.71587;0.133621x0.16413)\n",
       "4225             AxesSubplot(0.606034,0.71587;0.133621x0.16413)\n",
       "4770             AxesSubplot(0.766379,0.71587;0.133621x0.16413)\n",
       "Total Bags         AxesSubplot(0.125,0.518913;0.133621x0.16413)\n",
       "Small Bags      AxesSubplot(0.285345,0.518913;0.133621x0.16413)\n",
       "Large Bags       AxesSubplot(0.44569,0.518913;0.133621x0.16413)\n",
       "XLarge Bags     AxesSubplot(0.606034,0.518913;0.133621x0.16413)\n",
       "year            AxesSubplot(0.766379,0.518913;0.133621x0.16413)\n",
       "Date_day           AxesSubplot(0.125,0.321957;0.133621x0.16413)\n",
       "Date_month      AxesSubplot(0.285345,0.321957;0.133621x0.16413)\n",
       "dtype: object"
      ]
     },
     "execution_count": 134,
     "metadata": {},
     "output_type": "execute_result"
    },
    {
     "data": {
      "image/png": "[encoded data removed]",
      "text/plain": [
       "<Figure size 1080x720 with 20 Axes>"
      ]
     },
     "metadata": {
      "needs_background": "light"
     },
     "output_type": "display_data"
    }
   ],
   "source": [
    "df.plot(kind='box',subplots=True, layout=(4,5), figsize=(15,10))"
   ]
  },
  {
   "cell_type": "markdown",
   "id": "dcb5f9c4",
   "metadata": {},
   "source": [
    "We can cleary see black dots denoting 'outliers'\n",
    "\n",
    "let's remove them."
   ]
  },
  {
   "cell_type": "code",
   "execution_count": 135,
   "id": "6af6a15a",
   "metadata": {},
   "outputs": [],
   "source": [
    "le=LabelEncoder()\n",
    "list1=['region']\n",
    "for val in list1:\n",
    "    df[val]=le.fit_transform(df[val].astype(str))"
   ]
  },
  {
   "cell_type": "code",
   "execution_count": 136,
   "id": "60aa1e6f",
   "metadata": {},
   "outputs": [],
   "source": [
    "le=LabelEncoder()\n",
    "list2=['type']\n",
    "for val in list2:\n",
    "    df[val]=le.fit_transform(df[val].astype(str))"
   ]
  },
  {
   "cell_type": "code",
   "execution_count": 137,
   "id": "497110d0",
   "metadata": {},
   "outputs": [
    {
     "data": {
      "text/html": [
       "<div>\n",
       "<style scoped>\n",
       "    .dataframe tbody tr th:only-of-type {\n",
       "        vertical-align: middle;\n",
       "    }\n",
       "\n",
       "    .dataframe tbody tr th {\n",
       "        vertical-align: top;\n",
       "    }\n",
       "\n",
       "    .dataframe thead th {\n",
       "        text-align: right;\n",
       "    }\n",
       "</style>\n",
       "<table border=\"1\" class=\"dataframe\">\n",
       "  <thead>\n",
       "    <tr style=\"text-align: right;\">\n",
       "      <th></th>\n",
       "      <th>AveragePrice</th>\n",
       "      <th>Total Volume</th>\n",
       "      <th>4046</th>\n",
       "      <th>4225</th>\n",
       "      <th>4770</th>\n",
       "      <th>Total Bags</th>\n",
       "      <th>Small Bags</th>\n",
       "      <th>Large Bags</th>\n",
       "      <th>XLarge Bags</th>\n",
       "      <th>type</th>\n",
       "      <th>year</th>\n",
       "      <th>region</th>\n",
       "      <th>Date_day</th>\n",
       "      <th>Date_month</th>\n",
       "    </tr>\n",
       "  </thead>\n",
       "  <tbody>\n",
       "    <tr>\n",
       "      <th>0</th>\n",
       "      <td>1.33</td>\n",
       "      <td>11.070344</td>\n",
       "      <td>6.944801</td>\n",
       "      <td>10.905146</td>\n",
       "      <td>3.895080</td>\n",
       "      <td>9.070833</td>\n",
       "      <td>9.060055</td>\n",
       "      <td>4.545951</td>\n",
       "      <td>0.0</td>\n",
       "      <td>0</td>\n",
       "      <td>2015</td>\n",
       "      <td>0</td>\n",
       "      <td>27</td>\n",
       "      <td>12</td>\n",
       "    </tr>\n",
       "    <tr>\n",
       "      <th>1</th>\n",
       "      <td>1.35</td>\n",
       "      <td>10.912867</td>\n",
       "      <td>6.515127</td>\n",
       "      <td>10.706381</td>\n",
       "      <td>4.083115</td>\n",
       "      <td>9.159737</td>\n",
       "      <td>9.149429</td>\n",
       "      <td>4.589955</td>\n",
       "      <td>0.0</td>\n",
       "      <td>0</td>\n",
       "      <td>2015</td>\n",
       "      <td>0</td>\n",
       "      <td>20</td>\n",
       "      <td>12</td>\n",
       "    </tr>\n",
       "    <tr>\n",
       "      <th>2</th>\n",
       "      <td>0.93</td>\n",
       "      <td>11.680313</td>\n",
       "      <td>6.679222</td>\n",
       "      <td>11.600485</td>\n",
       "      <td>4.879007</td>\n",
       "      <td>9.005325</td>\n",
       "      <td>8.992584</td>\n",
       "      <td>4.645736</td>\n",
       "      <td>0.0</td>\n",
       "      <td>0</td>\n",
       "      <td>2015</td>\n",
       "      <td>0</td>\n",
       "      <td>13</td>\n",
       "      <td>12</td>\n",
       "    </tr>\n",
       "    <tr>\n",
       "      <th>3</th>\n",
       "      <td>1.08</td>\n",
       "      <td>11.277116</td>\n",
       "      <td>7.032624</td>\n",
       "      <td>11.184108</td>\n",
       "      <td>4.298373</td>\n",
       "      <td>8.667708</td>\n",
       "      <td>8.644425</td>\n",
       "      <td>4.903495</td>\n",
       "      <td>0.0</td>\n",
       "      <td>0</td>\n",
       "      <td>2015</td>\n",
       "      <td>0</td>\n",
       "      <td>6</td>\n",
       "      <td>12</td>\n",
       "    </tr>\n",
       "    <tr>\n",
       "      <th>4</th>\n",
       "      <td>1.28</td>\n",
       "      <td>10.840377</td>\n",
       "      <td>6.848515</td>\n",
       "      <td>10.688288</td>\n",
       "      <td>4.340944</td>\n",
       "      <td>8.729874</td>\n",
       "      <td>8.697389</td>\n",
       "      <td>5.291746</td>\n",
       "      <td>0.0</td>\n",
       "      <td>0</td>\n",
       "      <td>2015</td>\n",
       "      <td>0</td>\n",
       "      <td>29</td>\n",
       "      <td>11</td>\n",
       "    </tr>\n",
       "    <tr>\n",
       "      <th>...</th>\n",
       "      <td>...</td>\n",
       "      <td>...</td>\n",
       "      <td>...</td>\n",
       "      <td>...</td>\n",
       "      <td>...</td>\n",
       "      <td>...</td>\n",
       "      <td>...</td>\n",
       "      <td>...</td>\n",
       "      <td>...</td>\n",
       "      <td>...</td>\n",
       "      <td>...</td>\n",
       "      <td>...</td>\n",
       "      <td>...</td>\n",
       "      <td>...</td>\n",
       "    </tr>\n",
       "    <tr>\n",
       "      <th>18244</th>\n",
       "      <td>1.63</td>\n",
       "      <td>9.745419</td>\n",
       "      <td>7.624599</td>\n",
       "      <td>7.333154</td>\n",
       "      <td>0.000000</td>\n",
       "      <td>9.510421</td>\n",
       "      <td>9.477908</td>\n",
       "      <td>6.070391</td>\n",
       "      <td>0.0</td>\n",
       "      <td>1</td>\n",
       "      <td>2018</td>\n",
       "      <td>53</td>\n",
       "      <td>4</td>\n",
       "      <td>2</td>\n",
       "    </tr>\n",
       "    <tr>\n",
       "      <th>18245</th>\n",
       "      <td>1.71</td>\n",
       "      <td>9.538855</td>\n",
       "      <td>7.083975</td>\n",
       "      <td>8.141044</td>\n",
       "      <td>0.000000</td>\n",
       "      <td>9.134090</td>\n",
       "      <td>9.098407</td>\n",
       "      <td>5.786284</td>\n",
       "      <td>0.0</td>\n",
       "      <td>1</td>\n",
       "      <td>2018</td>\n",
       "      <td>53</td>\n",
       "      <td>28</td>\n",
       "      <td>1</td>\n",
       "    </tr>\n",
       "    <tr>\n",
       "      <th>18246</th>\n",
       "      <td>1.87</td>\n",
       "      <td>9.530085</td>\n",
       "      <td>7.084159</td>\n",
       "      <td>7.805389</td>\n",
       "      <td>6.591591</td>\n",
       "      <td>9.147945</td>\n",
       "      <td>9.143431</td>\n",
       "      <td>3.768384</td>\n",
       "      <td>0.0</td>\n",
       "      <td>1</td>\n",
       "      <td>2018</td>\n",
       "      <td>53</td>\n",
       "      <td>21</td>\n",
       "      <td>1</td>\n",
       "    </tr>\n",
       "    <tr>\n",
       "      <th>18247</th>\n",
       "      <td>1.93</td>\n",
       "      <td>9.693150</td>\n",
       "      <td>7.332127</td>\n",
       "      <td>8.000363</td>\n",
       "      <td>6.590315</td>\n",
       "      <td>9.302969</td>\n",
       "      <td>9.298401</td>\n",
       "      <td>3.931826</td>\n",
       "      <td>0.0</td>\n",
       "      <td>1</td>\n",
       "      <td>2018</td>\n",
       "      <td>53</td>\n",
       "      <td>14</td>\n",
       "      <td>1</td>\n",
       "    </tr>\n",
       "    <tr>\n",
       "      <th>18248</th>\n",
       "      <td>1.62</td>\n",
       "      <td>9.769418</td>\n",
       "      <td>7.971006</td>\n",
       "      <td>7.765200</td>\n",
       "      <td>5.418453</td>\n",
       "      <td>9.393924</td>\n",
       "      <td>9.391757</td>\n",
       "      <td>3.296207</td>\n",
       "      <td>0.0</td>\n",
       "      <td>1</td>\n",
       "      <td>2018</td>\n",
       "      <td>53</td>\n",
       "      <td>7</td>\n",
       "      <td>1</td>\n",
       "    </tr>\n",
       "  </tbody>\n",
       "</table>\n",
       "<p>18249 rows × 14 columns</p>\n",
       "</div>"
      ],
      "text/plain": [
       "       AveragePrice  Total Volume      4046       4225      4770  Total Bags  \\\n",
       "0              1.33     11.070344  6.944801  10.905146  3.895080    9.070833   \n",
       "1              1.35     10.912867  6.515127  10.706381  4.083115    9.159737   \n",
       "2              0.93     11.680313  6.679222  11.600485  4.879007    9.005325   \n",
       "3              1.08     11.277116  7.032624  11.184108  4.298373    8.667708   \n",
       "4              1.28     10.840377  6.848515  10.688288  4.340944    8.729874   \n",
       "...             ...           ...       ...        ...       ...         ...   \n",
       "18244          1.63      9.745419  7.624599   7.333154  0.000000    9.510421   \n",
       "18245          1.71      9.538855  7.083975   8.141044  0.000000    9.134090   \n",
       "18246          1.87      9.530085  7.084159   7.805389  6.591591    9.147945   \n",
       "18247          1.93      9.693150  7.332127   8.000363  6.590315    9.302969   \n",
       "18248          1.62      9.769418  7.971006   7.765200  5.418453    9.393924   \n",
       "\n",
       "       Small Bags  Large Bags  XLarge Bags  type  year  region  Date_day  \\\n",
       "0        9.060055    4.545951          0.0     0  2015       0        27   \n",
       "1        9.149429    4.589955          0.0     0  2015       0        20   \n",
       "2        8.992584    4.645736          0.0     0  2015       0        13   \n",
       "3        8.644425    4.903495          0.0     0  2015       0         6   \n",
       "4        8.697389    5.291746          0.0     0  2015       0        29   \n",
       "...           ...         ...          ...   ...   ...     ...       ...   \n",
       "18244    9.477908    6.070391          0.0     1  2018      53         4   \n",
       "18245    9.098407    5.786284          0.0     1  2018      53        28   \n",
       "18246    9.143431    3.768384          0.0     1  2018      53        21   \n",
       "18247    9.298401    3.931826          0.0     1  2018      53        14   \n",
       "18248    9.391757    3.296207          0.0     1  2018      53         7   \n",
       "\n",
       "       Date_month  \n",
       "0              12  \n",
       "1              12  \n",
       "2              12  \n",
       "3              12  \n",
       "4              11  \n",
       "...           ...  \n",
       "18244           2  \n",
       "18245           1  \n",
       "18246           1  \n",
       "18247           1  \n",
       "18248           1  \n",
       "\n",
       "[18249 rows x 14 columns]"
      ]
     },
     "execution_count": 137,
     "metadata": {},
     "output_type": "execute_result"
    }
   ],
   "source": [
    "df"
   ]
  },
  {
   "cell_type": "code",
   "execution_count": 138,
   "id": "8b799672",
   "metadata": {},
   "outputs": [
    {
     "name": "stdout",
     "output_type": "stream",
     "text": [
      "       AveragePrice  Total Volume      4046      4225      4770  Total Bags  \\\n",
      "0          0.188689      0.107282  0.609752  0.374936  0.279143    0.494074   \n",
      "1          0.139020      0.175949  0.737707  0.305200  0.233838    0.454761   \n",
      "2          1.182069      0.158690  0.688840  0.618892  0.042078    0.523041   \n",
      "3          0.809551      0.017121  0.583598  0.472808  0.181974    0.672335   \n",
      "4          0.312861      0.207558  0.638425  0.298852  0.171717    0.644845   \n",
      "...             ...           ...       ...       ...       ...         ...   \n",
      "18244      0.556347      0.685006  0.407310  0.878279  1.217613    0.299689   \n",
      "18245      0.755023      0.775077  0.568306  0.594835  1.217613    0.466102   \n",
      "18246      1.152375      0.778901  0.568251  0.712597  0.370548    0.459975   \n",
      "18247      1.301382      0.707798  0.494407  0.644192  0.370240    0.391424   \n",
      "18248      0.531512      0.674542  0.304151  0.726698  0.087895    0.351204   \n",
      "\n",
      "       Small Bags  Large Bags  XLarge Bags      type      year    region  \\\n",
      "0        0.247796    0.669747     0.645526  0.999836  1.221282  1.700252   \n",
      "1        0.213093    0.658279     0.645526  0.999836  1.221282  1.700252   \n",
      "2        0.273995    0.643743     0.645526  0.999836  1.221282  1.700252   \n",
      "3        0.409182    0.576571     0.645526  0.999836  1.221282  1.700252   \n",
      "4        0.388616    0.475393     0.645526  0.999836  1.221282  1.700252   \n",
      "...           ...         ...          ...       ...       ...       ...   \n",
      "18244    0.085548    0.272479     0.645526  1.000164  1.970504  1.700811   \n",
      "18245    0.232904    0.346517     0.645526  1.000164  1.970504  1.700811   \n",
      "18246    0.215422    0.872380     0.645526  1.000164  1.970504  1.700811   \n",
      "18247    0.155249    0.829787     0.645526  1.000164  1.970504  1.700811   \n",
      "18248    0.119000    0.995429     0.645526  1.000164  1.970504  1.700811   \n",
      "\n",
      "       Date_day  Date_month  \n",
      "0      1.291857    1.647632  \n",
      "1      0.494231    1.647632  \n",
      "2      0.303396    1.647632  \n",
      "3      1.101022    1.647632  \n",
      "4      1.519750    1.364669  \n",
      "...         ...         ...  \n",
      "18244  1.328915    1.181997  \n",
      "18245  1.405803    1.464959  \n",
      "18246  0.608177    1.464959  \n",
      "18247  0.189449    1.464959  \n",
      "18248  0.987075    1.464959  \n",
      "\n",
      "[18249 rows x 14 columns]\n"
     ]
    }
   ],
   "source": [
    "#calculate zscore\n",
    "\n",
    "z=np.abs(zscore(df))\n",
    "print(z)"
   ]
  },
  {
   "cell_type": "code",
   "execution_count": 139,
   "id": "c0ae22a0",
   "metadata": {},
   "outputs": [
    {
     "name": "stdout",
     "output_type": "stream",
     "text": [
      "(array([    0,     0,     0, ..., 18248, 18248, 18248], dtype=int64), array([ 0,  1,  2, ..., 11, 12, 13], dtype=int64))\n",
      "(18249, 14)\n"
     ]
    }
   ],
   "source": [
    "threshold=3\n",
    "print(np.where(z<3))\n",
    "print(df.shape)"
   ]
  },
  {
   "cell_type": "code",
   "execution_count": null,
   "id": "76c90782",
   "metadata": {},
   "outputs": [],
   "source": []
  },
  {
   "cell_type": "code",
   "execution_count": 140,
   "id": "6b786a91",
   "metadata": {
    "scrolled": false
   },
   "outputs": [
    {
     "data": {
      "text/html": [
       "<div>\n",
       "<style scoped>\n",
       "    .dataframe tbody tr th:only-of-type {\n",
       "        vertical-align: middle;\n",
       "    }\n",
       "\n",
       "    .dataframe tbody tr th {\n",
       "        vertical-align: top;\n",
       "    }\n",
       "\n",
       "    .dataframe thead th {\n",
       "        text-align: right;\n",
       "    }\n",
       "</style>\n",
       "<table border=\"1\" class=\"dataframe\">\n",
       "  <thead>\n",
       "    <tr style=\"text-align: right;\">\n",
       "      <th></th>\n",
       "      <th>AveragePrice</th>\n",
       "      <th>Total Volume</th>\n",
       "      <th>4046</th>\n",
       "      <th>4225</th>\n",
       "      <th>4770</th>\n",
       "      <th>Total Bags</th>\n",
       "      <th>Small Bags</th>\n",
       "      <th>Large Bags</th>\n",
       "      <th>XLarge Bags</th>\n",
       "      <th>type</th>\n",
       "      <th>year</th>\n",
       "      <th>region</th>\n",
       "      <th>Date_day</th>\n",
       "      <th>Date_month</th>\n",
       "    </tr>\n",
       "  </thead>\n",
       "  <tbody>\n",
       "    <tr>\n",
       "      <th>0</th>\n",
       "      <td>1.33</td>\n",
       "      <td>11.070344</td>\n",
       "      <td>6.944801</td>\n",
       "      <td>10.905146</td>\n",
       "      <td>3.895080</td>\n",
       "      <td>9.070833</td>\n",
       "      <td>9.060055</td>\n",
       "      <td>4.545951</td>\n",
       "      <td>0.0</td>\n",
       "      <td>0</td>\n",
       "      <td>2015</td>\n",
       "      <td>0</td>\n",
       "      <td>27</td>\n",
       "      <td>12</td>\n",
       "    </tr>\n",
       "    <tr>\n",
       "      <th>1</th>\n",
       "      <td>1.35</td>\n",
       "      <td>10.912867</td>\n",
       "      <td>6.515127</td>\n",
       "      <td>10.706381</td>\n",
       "      <td>4.083115</td>\n",
       "      <td>9.159737</td>\n",
       "      <td>9.149429</td>\n",
       "      <td>4.589955</td>\n",
       "      <td>0.0</td>\n",
       "      <td>0</td>\n",
       "      <td>2015</td>\n",
       "      <td>0</td>\n",
       "      <td>20</td>\n",
       "      <td>12</td>\n",
       "    </tr>\n",
       "    <tr>\n",
       "      <th>2</th>\n",
       "      <td>0.93</td>\n",
       "      <td>11.680313</td>\n",
       "      <td>6.679222</td>\n",
       "      <td>11.600485</td>\n",
       "      <td>4.879007</td>\n",
       "      <td>9.005325</td>\n",
       "      <td>8.992584</td>\n",
       "      <td>4.645736</td>\n",
       "      <td>0.0</td>\n",
       "      <td>0</td>\n",
       "      <td>2015</td>\n",
       "      <td>0</td>\n",
       "      <td>13</td>\n",
       "      <td>12</td>\n",
       "    </tr>\n",
       "    <tr>\n",
       "      <th>3</th>\n",
       "      <td>1.08</td>\n",
       "      <td>11.277116</td>\n",
       "      <td>7.032624</td>\n",
       "      <td>11.184108</td>\n",
       "      <td>4.298373</td>\n",
       "      <td>8.667708</td>\n",
       "      <td>8.644425</td>\n",
       "      <td>4.903495</td>\n",
       "      <td>0.0</td>\n",
       "      <td>0</td>\n",
       "      <td>2015</td>\n",
       "      <td>0</td>\n",
       "      <td>6</td>\n",
       "      <td>12</td>\n",
       "    </tr>\n",
       "    <tr>\n",
       "      <th>4</th>\n",
       "      <td>1.28</td>\n",
       "      <td>10.840377</td>\n",
       "      <td>6.848515</td>\n",
       "      <td>10.688288</td>\n",
       "      <td>4.340944</td>\n",
       "      <td>8.729874</td>\n",
       "      <td>8.697389</td>\n",
       "      <td>5.291746</td>\n",
       "      <td>0.0</td>\n",
       "      <td>0</td>\n",
       "      <td>2015</td>\n",
       "      <td>0</td>\n",
       "      <td>29</td>\n",
       "      <td>11</td>\n",
       "    </tr>\n",
       "    <tr>\n",
       "      <th>...</th>\n",
       "      <td>...</td>\n",
       "      <td>...</td>\n",
       "      <td>...</td>\n",
       "      <td>...</td>\n",
       "      <td>...</td>\n",
       "      <td>...</td>\n",
       "      <td>...</td>\n",
       "      <td>...</td>\n",
       "      <td>...</td>\n",
       "      <td>...</td>\n",
       "      <td>...</td>\n",
       "      <td>...</td>\n",
       "      <td>...</td>\n",
       "      <td>...</td>\n",
       "    </tr>\n",
       "    <tr>\n",
       "      <th>18244</th>\n",
       "      <td>1.63</td>\n",
       "      <td>9.745419</td>\n",
       "      <td>7.624599</td>\n",
       "      <td>7.333154</td>\n",
       "      <td>0.000000</td>\n",
       "      <td>9.510421</td>\n",
       "      <td>9.477908</td>\n",
       "      <td>6.070391</td>\n",
       "      <td>0.0</td>\n",
       "      <td>1</td>\n",
       "      <td>2018</td>\n",
       "      <td>53</td>\n",
       "      <td>4</td>\n",
       "      <td>2</td>\n",
       "    </tr>\n",
       "    <tr>\n",
       "      <th>18245</th>\n",
       "      <td>1.71</td>\n",
       "      <td>9.538855</td>\n",
       "      <td>7.083975</td>\n",
       "      <td>8.141044</td>\n",
       "      <td>0.000000</td>\n",
       "      <td>9.134090</td>\n",
       "      <td>9.098407</td>\n",
       "      <td>5.786284</td>\n",
       "      <td>0.0</td>\n",
       "      <td>1</td>\n",
       "      <td>2018</td>\n",
       "      <td>53</td>\n",
       "      <td>28</td>\n",
       "      <td>1</td>\n",
       "    </tr>\n",
       "    <tr>\n",
       "      <th>18246</th>\n",
       "      <td>1.87</td>\n",
       "      <td>9.530085</td>\n",
       "      <td>7.084159</td>\n",
       "      <td>7.805389</td>\n",
       "      <td>6.591591</td>\n",
       "      <td>9.147945</td>\n",
       "      <td>9.143431</td>\n",
       "      <td>3.768384</td>\n",
       "      <td>0.0</td>\n",
       "      <td>1</td>\n",
       "      <td>2018</td>\n",
       "      <td>53</td>\n",
       "      <td>21</td>\n",
       "      <td>1</td>\n",
       "    </tr>\n",
       "    <tr>\n",
       "      <th>18247</th>\n",
       "      <td>1.93</td>\n",
       "      <td>9.693150</td>\n",
       "      <td>7.332127</td>\n",
       "      <td>8.000363</td>\n",
       "      <td>6.590315</td>\n",
       "      <td>9.302969</td>\n",
       "      <td>9.298401</td>\n",
       "      <td>3.931826</td>\n",
       "      <td>0.0</td>\n",
       "      <td>1</td>\n",
       "      <td>2018</td>\n",
       "      <td>53</td>\n",
       "      <td>14</td>\n",
       "      <td>1</td>\n",
       "    </tr>\n",
       "    <tr>\n",
       "      <th>18248</th>\n",
       "      <td>1.62</td>\n",
       "      <td>9.769418</td>\n",
       "      <td>7.971006</td>\n",
       "      <td>7.765200</td>\n",
       "      <td>5.418453</td>\n",
       "      <td>9.393924</td>\n",
       "      <td>9.391757</td>\n",
       "      <td>3.296207</td>\n",
       "      <td>0.0</td>\n",
       "      <td>1</td>\n",
       "      <td>2018</td>\n",
       "      <td>53</td>\n",
       "      <td>7</td>\n",
       "      <td>1</td>\n",
       "    </tr>\n",
       "  </tbody>\n",
       "</table>\n",
       "<p>17834 rows × 14 columns</p>\n",
       "</div>"
      ],
      "text/plain": [
       "       AveragePrice  Total Volume      4046       4225      4770  Total Bags  \\\n",
       "0              1.33     11.070344  6.944801  10.905146  3.895080    9.070833   \n",
       "1              1.35     10.912867  6.515127  10.706381  4.083115    9.159737   \n",
       "2              0.93     11.680313  6.679222  11.600485  4.879007    9.005325   \n",
       "3              1.08     11.277116  7.032624  11.184108  4.298373    8.667708   \n",
       "4              1.28     10.840377  6.848515  10.688288  4.340944    8.729874   \n",
       "...             ...           ...       ...        ...       ...         ...   \n",
       "18244          1.63      9.745419  7.624599   7.333154  0.000000    9.510421   \n",
       "18245          1.71      9.538855  7.083975   8.141044  0.000000    9.134090   \n",
       "18246          1.87      9.530085  7.084159   7.805389  6.591591    9.147945   \n",
       "18247          1.93      9.693150  7.332127   8.000363  6.590315    9.302969   \n",
       "18248          1.62      9.769418  7.971006   7.765200  5.418453    9.393924   \n",
       "\n",
       "       Small Bags  Large Bags  XLarge Bags  type  year  region  Date_day  \\\n",
       "0        9.060055    4.545951          0.0     0  2015       0        27   \n",
       "1        9.149429    4.589955          0.0     0  2015       0        20   \n",
       "2        8.992584    4.645736          0.0     0  2015       0        13   \n",
       "3        8.644425    4.903495          0.0     0  2015       0         6   \n",
       "4        8.697389    5.291746          0.0     0  2015       0        29   \n",
       "...           ...         ...          ...   ...   ...     ...       ...   \n",
       "18244    9.477908    6.070391          0.0     1  2018      53         4   \n",
       "18245    9.098407    5.786284          0.0     1  2018      53        28   \n",
       "18246    9.143431    3.768384          0.0     1  2018      53        21   \n",
       "18247    9.298401    3.931826          0.0     1  2018      53        14   \n",
       "18248    9.391757    3.296207          0.0     1  2018      53         7   \n",
       "\n",
       "       Date_month  \n",
       "0              12  \n",
       "1              12  \n",
       "2              12  \n",
       "3              12  \n",
       "4              11  \n",
       "...           ...  \n",
       "18244           2  \n",
       "18245           1  \n",
       "18246           1  \n",
       "18247           1  \n",
       "18248           1  \n",
       "\n",
       "[17834 rows x 14 columns]"
      ]
     },
     "execution_count": 140,
     "metadata": {},
     "output_type": "execute_result"
    }
   ],
   "source": [
    "#taking only values to df_new which are less than threshold - eliminating outlier values\n",
    "\n",
    "df_new=df[(z<3).all(axis=1)]\n",
    "df_new"
   ]
  },
  {
   "cell_type": "code",
   "execution_count": 141,
   "id": "fba894f6",
   "metadata": {
    "scrolled": true
   },
   "outputs": [
    {
     "name": "stdout",
     "output_type": "stream",
     "text": [
      "(18249, 14)\n",
      "(17834, 14)\n",
      "shape after removing outliers (17834, 14)\n"
     ]
    }
   ],
   "source": [
    "print(df.shape)\n",
    "print(df_new.shape)\n",
    "df=df_new\n",
    "print('shape after removing outliers',df.shape)"
   ]
  },
  {
   "cell_type": "code",
   "execution_count": 142,
   "id": "2a7ba45f",
   "metadata": {},
   "outputs": [
    {
     "data": {
      "text/plain": [
       "2.2412186969148995"
      ]
     },
     "execution_count": 142,
     "metadata": {},
     "output_type": "execute_result"
    }
   ],
   "source": [
    "P1=(18249-17840)*100/18249\n",
    "P1"
   ]
  },
  {
   "cell_type": "markdown",
   "id": "12f316f0",
   "metadata": {},
   "source": [
    "Removed outliers where zscore more than 3\n",
    "\n",
    "Using Zscore method 2.24% outliers are removed which is ok. "
   ]
  },
  {
   "cell_type": "code",
   "execution_count": 40,
   "id": "4e5b0c27",
   "metadata": {},
   "outputs": [
    {
     "data": {
      "text/plain": [
       "AveragePrice        AxesSubplot(0.125,0.71587;0.133621x0.16413)\n",
       "Total Volume     AxesSubplot(0.285345,0.71587;0.133621x0.16413)\n",
       "4046              AxesSubplot(0.44569,0.71587;0.133621x0.16413)\n",
       "4225             AxesSubplot(0.606034,0.71587;0.133621x0.16413)\n",
       "4770             AxesSubplot(0.766379,0.71587;0.133621x0.16413)\n",
       "Total Bags         AxesSubplot(0.125,0.518913;0.133621x0.16413)\n",
       "Small Bags      AxesSubplot(0.285345,0.518913;0.133621x0.16413)\n",
       "Large Bags       AxesSubplot(0.44569,0.518913;0.133621x0.16413)\n",
       "XLarge Bags     AxesSubplot(0.606034,0.518913;0.133621x0.16413)\n",
       "type            AxesSubplot(0.766379,0.518913;0.133621x0.16413)\n",
       "year               AxesSubplot(0.125,0.321957;0.133621x0.16413)\n",
       "region          AxesSubplot(0.285345,0.321957;0.133621x0.16413)\n",
       "Date_day         AxesSubplot(0.44569,0.321957;0.133621x0.16413)\n",
       "Date_month      AxesSubplot(0.606034,0.321957;0.133621x0.16413)\n",
       "dtype: object"
      ]
     },
     "execution_count": 40,
     "metadata": {},
     "output_type": "execute_result"
    },
    {
     "data": {
      "image/png": "[encoded data removed]",
      "text/plain": [
       "<Figure size 1080x720 with 20 Axes>"
      ]
     },
     "metadata": {
      "needs_background": "light"
     },
     "output_type": "display_data"
    }
   ],
   "source": [
    "df.plot(kind='box',subplots=True, layout=(4,5), figsize=(15,10))"
   ]
  },
  {
   "cell_type": "code",
   "execution_count": 143,
   "id": "1759074f",
   "metadata": {},
   "outputs": [
    {
     "name": "stdout",
     "output_type": "stream",
     "text": [
      "9.904531114140678\n",
      "10.267548476890832\n",
      "9.83158716707478\n"
     ]
    }
   ],
   "source": [
    "#now finding the mean value of each column \n",
    "print(df['4225'].mean())\n",
    "print(df['Total Bags'].mean())\n",
    "print(df['Small Bags'].mean())"
   ]
  },
  {
   "cell_type": "code",
   "execution_count": 144,
   "id": "35720b64",
   "metadata": {},
   "outputs": [],
   "source": [
    "#replace the outlier value to its mean value to remove outliers\n",
    "df.loc[df['4225']<3,'4225'] = np.mean(df['4225'])\n",
    "df.loc[df['Total Bags']<4.8,'Total Bags'] = np.mean(df['Total Bags'])\n",
    "df.loc[df['Small Bags']<4,'Small Bags'] = np.mean(df['Small Bags'])"
   ]
  },
  {
   "cell_type": "code",
   "execution_count": 145,
   "id": "c7d1c77e",
   "metadata": {},
   "outputs": [
    {
     "data": {
      "text/plain": [
       "AveragePrice        AxesSubplot(0.125,0.71587;0.133621x0.16413)\n",
       "Total Volume     AxesSubplot(0.285345,0.71587;0.133621x0.16413)\n",
       "4046              AxesSubplot(0.44569,0.71587;0.133621x0.16413)\n",
       "4225             AxesSubplot(0.606034,0.71587;0.133621x0.16413)\n",
       "4770             AxesSubplot(0.766379,0.71587;0.133621x0.16413)\n",
       "Total Bags         AxesSubplot(0.125,0.518913;0.133621x0.16413)\n",
       "Small Bags      AxesSubplot(0.285345,0.518913;0.133621x0.16413)\n",
       "Large Bags       AxesSubplot(0.44569,0.518913;0.133621x0.16413)\n",
       "XLarge Bags     AxesSubplot(0.606034,0.518913;0.133621x0.16413)\n",
       "type            AxesSubplot(0.766379,0.518913;0.133621x0.16413)\n",
       "year               AxesSubplot(0.125,0.321957;0.133621x0.16413)\n",
       "region          AxesSubplot(0.285345,0.321957;0.133621x0.16413)\n",
       "Date_day         AxesSubplot(0.44569,0.321957;0.133621x0.16413)\n",
       "Date_month      AxesSubplot(0.606034,0.321957;0.133621x0.16413)\n",
       "dtype: object"
      ]
     },
     "execution_count": 145,
     "metadata": {},
     "output_type": "execute_result"
    },
    {
     "data": {
      "image/png": "[encoded data removed]",
      "text/plain": [
       "<Figure size 1080x720 with 20 Axes>"
      ]
     },
     "metadata": {
      "needs_background": "light"
     },
     "output_type": "display_data"
    }
   ],
   "source": [
    "#plotting the boxplot of each column to check the outliers \n",
    "df.plot(kind='box',subplots = True,layout=(4,5),figsize = (15,10))"
   ]
  },
  {
   "cell_type": "code",
   "execution_count": 146,
   "id": "02d5d442",
   "metadata": {},
   "outputs": [
    {
     "data": {
      "image/png": "[encoded data removed]",
      "text/plain": [
       "<Figure size 720x504 with 2 Axes>"
      ]
     },
     "metadata": {
      "needs_background": "light"
     },
     "output_type": "display_data"
    }
   ],
   "source": [
    "df_cor=df.corr()\n",
    "plt.figure(figsize=(10,7))\n",
    "sns.heatmap(df_cor,annot=True)\n",
    "plt.show()"
   ]
  },
  {
   "cell_type": "code",
   "execution_count": 147,
   "id": "fd8f8717",
   "metadata": {},
   "outputs": [
    {
     "data": {
      "text/html": [
       "<div>\n",
       "<style scoped>\n",
       "    .dataframe tbody tr th:only-of-type {\n",
       "        vertical-align: middle;\n",
       "    }\n",
       "\n",
       "    .dataframe tbody tr th {\n",
       "        vertical-align: top;\n",
       "    }\n",
       "\n",
       "    .dataframe thead th {\n",
       "        text-align: right;\n",
       "    }\n",
       "</style>\n",
       "<table border=\"1\" class=\"dataframe\">\n",
       "  <thead>\n",
       "    <tr style=\"text-align: right;\">\n",
       "      <th></th>\n",
       "      <th>Total Volume</th>\n",
       "      <th>4046</th>\n",
       "      <th>4225</th>\n",
       "      <th>4770</th>\n",
       "      <th>Total Bags</th>\n",
       "      <th>Small Bags</th>\n",
       "      <th>Large Bags</th>\n",
       "      <th>XLarge Bags</th>\n",
       "      <th>type</th>\n",
       "      <th>year</th>\n",
       "      <th>region</th>\n",
       "      <th>Date_day</th>\n",
       "      <th>Date_month</th>\n",
       "    </tr>\n",
       "  </thead>\n",
       "  <tbody>\n",
       "    <tr>\n",
       "      <th>0</th>\n",
       "      <td>11.070344</td>\n",
       "      <td>6.944801</td>\n",
       "      <td>10.905146</td>\n",
       "      <td>3.895080</td>\n",
       "      <td>9.070833</td>\n",
       "      <td>9.060055</td>\n",
       "      <td>4.545951</td>\n",
       "      <td>0.0</td>\n",
       "      <td>0</td>\n",
       "      <td>2015</td>\n",
       "      <td>0</td>\n",
       "      <td>27</td>\n",
       "      <td>12</td>\n",
       "    </tr>\n",
       "    <tr>\n",
       "      <th>1</th>\n",
       "      <td>10.912867</td>\n",
       "      <td>6.515127</td>\n",
       "      <td>10.706381</td>\n",
       "      <td>4.083115</td>\n",
       "      <td>9.159737</td>\n",
       "      <td>9.149429</td>\n",
       "      <td>4.589955</td>\n",
       "      <td>0.0</td>\n",
       "      <td>0</td>\n",
       "      <td>2015</td>\n",
       "      <td>0</td>\n",
       "      <td>20</td>\n",
       "      <td>12</td>\n",
       "    </tr>\n",
       "    <tr>\n",
       "      <th>2</th>\n",
       "      <td>11.680313</td>\n",
       "      <td>6.679222</td>\n",
       "      <td>11.600485</td>\n",
       "      <td>4.879007</td>\n",
       "      <td>9.005325</td>\n",
       "      <td>8.992584</td>\n",
       "      <td>4.645736</td>\n",
       "      <td>0.0</td>\n",
       "      <td>0</td>\n",
       "      <td>2015</td>\n",
       "      <td>0</td>\n",
       "      <td>13</td>\n",
       "      <td>12</td>\n",
       "    </tr>\n",
       "    <tr>\n",
       "      <th>3</th>\n",
       "      <td>11.277116</td>\n",
       "      <td>7.032624</td>\n",
       "      <td>11.184108</td>\n",
       "      <td>4.298373</td>\n",
       "      <td>8.667708</td>\n",
       "      <td>8.644425</td>\n",
       "      <td>4.903495</td>\n",
       "      <td>0.0</td>\n",
       "      <td>0</td>\n",
       "      <td>2015</td>\n",
       "      <td>0</td>\n",
       "      <td>6</td>\n",
       "      <td>12</td>\n",
       "    </tr>\n",
       "    <tr>\n",
       "      <th>4</th>\n",
       "      <td>10.840377</td>\n",
       "      <td>6.848515</td>\n",
       "      <td>10.688288</td>\n",
       "      <td>4.340944</td>\n",
       "      <td>8.729874</td>\n",
       "      <td>8.697389</td>\n",
       "      <td>5.291746</td>\n",
       "      <td>0.0</td>\n",
       "      <td>0</td>\n",
       "      <td>2015</td>\n",
       "      <td>0</td>\n",
       "      <td>29</td>\n",
       "      <td>11</td>\n",
       "    </tr>\n",
       "    <tr>\n",
       "      <th>...</th>\n",
       "      <td>...</td>\n",
       "      <td>...</td>\n",
       "      <td>...</td>\n",
       "      <td>...</td>\n",
       "      <td>...</td>\n",
       "      <td>...</td>\n",
       "      <td>...</td>\n",
       "      <td>...</td>\n",
       "      <td>...</td>\n",
       "      <td>...</td>\n",
       "      <td>...</td>\n",
       "      <td>...</td>\n",
       "      <td>...</td>\n",
       "    </tr>\n",
       "    <tr>\n",
       "      <th>18244</th>\n",
       "      <td>9.745419</td>\n",
       "      <td>7.624599</td>\n",
       "      <td>7.333154</td>\n",
       "      <td>0.000000</td>\n",
       "      <td>9.510421</td>\n",
       "      <td>9.477908</td>\n",
       "      <td>6.070391</td>\n",
       "      <td>0.0</td>\n",
       "      <td>1</td>\n",
       "      <td>2018</td>\n",
       "      <td>53</td>\n",
       "      <td>4</td>\n",
       "      <td>2</td>\n",
       "    </tr>\n",
       "    <tr>\n",
       "      <th>18245</th>\n",
       "      <td>9.538855</td>\n",
       "      <td>7.083975</td>\n",
       "      <td>8.141044</td>\n",
       "      <td>0.000000</td>\n",
       "      <td>9.134090</td>\n",
       "      <td>9.098407</td>\n",
       "      <td>5.786284</td>\n",
       "      <td>0.0</td>\n",
       "      <td>1</td>\n",
       "      <td>2018</td>\n",
       "      <td>53</td>\n",
       "      <td>28</td>\n",
       "      <td>1</td>\n",
       "    </tr>\n",
       "    <tr>\n",
       "      <th>18246</th>\n",
       "      <td>9.530085</td>\n",
       "      <td>7.084159</td>\n",
       "      <td>7.805389</td>\n",
       "      <td>6.591591</td>\n",
       "      <td>9.147945</td>\n",
       "      <td>9.143431</td>\n",
       "      <td>3.768384</td>\n",
       "      <td>0.0</td>\n",
       "      <td>1</td>\n",
       "      <td>2018</td>\n",
       "      <td>53</td>\n",
       "      <td>21</td>\n",
       "      <td>1</td>\n",
       "    </tr>\n",
       "    <tr>\n",
       "      <th>18247</th>\n",
       "      <td>9.693150</td>\n",
       "      <td>7.332127</td>\n",
       "      <td>8.000363</td>\n",
       "      <td>6.590315</td>\n",
       "      <td>9.302969</td>\n",
       "      <td>9.298401</td>\n",
       "      <td>3.931826</td>\n",
       "      <td>0.0</td>\n",
       "      <td>1</td>\n",
       "      <td>2018</td>\n",
       "      <td>53</td>\n",
       "      <td>14</td>\n",
       "      <td>1</td>\n",
       "    </tr>\n",
       "    <tr>\n",
       "      <th>18248</th>\n",
       "      <td>9.769418</td>\n",
       "      <td>7.971006</td>\n",
       "      <td>7.765200</td>\n",
       "      <td>5.418453</td>\n",
       "      <td>9.393924</td>\n",
       "      <td>9.391757</td>\n",
       "      <td>3.296207</td>\n",
       "      <td>0.0</td>\n",
       "      <td>1</td>\n",
       "      <td>2018</td>\n",
       "      <td>53</td>\n",
       "      <td>7</td>\n",
       "      <td>1</td>\n",
       "    </tr>\n",
       "  </tbody>\n",
       "</table>\n",
       "<p>17834 rows × 13 columns</p>\n",
       "</div>"
      ],
      "text/plain": [
       "       Total Volume      4046       4225      4770  Total Bags  Small Bags  \\\n",
       "0         11.070344  6.944801  10.905146  3.895080    9.070833    9.060055   \n",
       "1         10.912867  6.515127  10.706381  4.083115    9.159737    9.149429   \n",
       "2         11.680313  6.679222  11.600485  4.879007    9.005325    8.992584   \n",
       "3         11.277116  7.032624  11.184108  4.298373    8.667708    8.644425   \n",
       "4         10.840377  6.848515  10.688288  4.340944    8.729874    8.697389   \n",
       "...             ...       ...        ...       ...         ...         ...   \n",
       "18244      9.745419  7.624599   7.333154  0.000000    9.510421    9.477908   \n",
       "18245      9.538855  7.083975   8.141044  0.000000    9.134090    9.098407   \n",
       "18246      9.530085  7.084159   7.805389  6.591591    9.147945    9.143431   \n",
       "18247      9.693150  7.332127   8.000363  6.590315    9.302969    9.298401   \n",
       "18248      9.769418  7.971006   7.765200  5.418453    9.393924    9.391757   \n",
       "\n",
       "       Large Bags  XLarge Bags  type  year  region  Date_day  Date_month  \n",
       "0        4.545951          0.0     0  2015       0        27          12  \n",
       "1        4.589955          0.0     0  2015       0        20          12  \n",
       "2        4.645736          0.0     0  2015       0        13          12  \n",
       "3        4.903495          0.0     0  2015       0         6          12  \n",
       "4        5.291746          0.0     0  2015       0        29          11  \n",
       "...           ...          ...   ...   ...     ...       ...         ...  \n",
       "18244    6.070391          0.0     1  2018      53         4           2  \n",
       "18245    5.786284          0.0     1  2018      53        28           1  \n",
       "18246    3.768384          0.0     1  2018      53        21           1  \n",
       "18247    3.931826          0.0     1  2018      53        14           1  \n",
       "18248    3.296207          0.0     1  2018      53         7           1  \n",
       "\n",
       "[17834 rows x 13 columns]"
      ]
     },
     "execution_count": 147,
     "metadata": {},
     "output_type": "execute_result"
    }
   ],
   "source": [
    "x=df.drop(['AveragePrice'],axis=1)\n",
    "x"
   ]
  },
  {
   "cell_type": "code",
   "execution_count": 186,
   "id": "217f2a2c",
   "metadata": {},
   "outputs": [],
   "source": [
    "from sklearn.preprocessing import StandardScaler\n",
    "\n",
    "sc = StandardScaler()\n",
    "sc.fit_transform(x)\n",
    "x = pd.DataFrame(x,columns=x.columns)"
   ]
  },
  {
   "cell_type": "code",
   "execution_count": 149,
   "id": "3a46a47a",
   "metadata": {},
   "outputs": [
    {
     "data": {
      "text/html": [
       "<div>\n",
       "<style scoped>\n",
       "    .dataframe tbody tr th:only-of-type {\n",
       "        vertical-align: middle;\n",
       "    }\n",
       "\n",
       "    .dataframe tbody tr th {\n",
       "        vertical-align: top;\n",
       "    }\n",
       "\n",
       "    .dataframe thead th {\n",
       "        text-align: right;\n",
       "    }\n",
       "</style>\n",
       "<table border=\"1\" class=\"dataframe\">\n",
       "  <thead>\n",
       "    <tr style=\"text-align: right;\">\n",
       "      <th></th>\n",
       "      <th>AveragePrice</th>\n",
       "    </tr>\n",
       "  </thead>\n",
       "  <tbody>\n",
       "    <tr>\n",
       "      <th>0</th>\n",
       "      <td>1.33</td>\n",
       "    </tr>\n",
       "    <tr>\n",
       "      <th>1</th>\n",
       "      <td>1.35</td>\n",
       "    </tr>\n",
       "    <tr>\n",
       "      <th>2</th>\n",
       "      <td>0.93</td>\n",
       "    </tr>\n",
       "    <tr>\n",
       "      <th>3</th>\n",
       "      <td>1.08</td>\n",
       "    </tr>\n",
       "    <tr>\n",
       "      <th>4</th>\n",
       "      <td>1.28</td>\n",
       "    </tr>\n",
       "    <tr>\n",
       "      <th>...</th>\n",
       "      <td>...</td>\n",
       "    </tr>\n",
       "    <tr>\n",
       "      <th>18244</th>\n",
       "      <td>1.63</td>\n",
       "    </tr>\n",
       "    <tr>\n",
       "      <th>18245</th>\n",
       "      <td>1.71</td>\n",
       "    </tr>\n",
       "    <tr>\n",
       "      <th>18246</th>\n",
       "      <td>1.87</td>\n",
       "    </tr>\n",
       "    <tr>\n",
       "      <th>18247</th>\n",
       "      <td>1.93</td>\n",
       "    </tr>\n",
       "    <tr>\n",
       "      <th>18248</th>\n",
       "      <td>1.62</td>\n",
       "    </tr>\n",
       "  </tbody>\n",
       "</table>\n",
       "<p>17834 rows × 1 columns</p>\n",
       "</div>"
      ],
      "text/plain": [
       "       AveragePrice\n",
       "0              1.33\n",
       "1              1.35\n",
       "2              0.93\n",
       "3              1.08\n",
       "4              1.28\n",
       "...             ...\n",
       "18244          1.63\n",
       "18245          1.71\n",
       "18246          1.87\n",
       "18247          1.93\n",
       "18248          1.62\n",
       "\n",
       "[17834 rows x 1 columns]"
      ]
     },
     "execution_count": 149,
     "metadata": {},
     "output_type": "execute_result"
    }
   ],
   "source": [
    "y=pd.DataFrame(df['AveragePrice'])\n",
    "y"
   ]
  },
  {
   "cell_type": "markdown",
   "id": "ec1ec43b",
   "metadata": {},
   "source": [
    "Average price is a floating type. Thus this model will be a Regression type."
   ]
  },
  {
   "cell_type": "markdown",
   "id": "f23c7cbb",
   "metadata": {},
   "source": [
    "# Training Multiple Models"
   ]
  },
  {
   "cell_type": "code",
   "execution_count": 189,
   "id": "78e69693",
   "metadata": {},
   "outputs": [
    {
     "name": "stdout",
     "output_type": "stream",
     "text": [
      "R2 score correspond to random state  40 is 0.6313061832613366\n",
      "R2 score correspond to random state  40 is 0.5574632006792857\n",
      "R2 score correspond to random state  40 is 0.5346454020424933\n",
      "R2 score correspond to random state  40 is 0.8918156631550473\n",
      "R2 score correspond to random state  41 is 0.6283544625458937\n",
      "R2 score correspond to random state  41 is 0.572950867200045\n",
      "R2 score correspond to random state  41 is 0.5539432477962569\n",
      "R2 score correspond to random state  41 is 0.8892303228896703\n",
      "R2 score correspond to random state  42 is 0.6232128841482094\n",
      "R2 score correspond to random state  42 is 0.552389742628951\n",
      "R2 score correspond to random state  42 is 0.5471134361611213\n",
      "R2 score correspond to random state  42 is 0.895111637041851\n",
      "R2 score correspond to random state  43 is 0.6358309089711458\n",
      "R2 score correspond to random state  43 is 0.5408513552317916\n",
      "R2 score correspond to random state  43 is 0.542848527285742\n",
      "R2 score correspond to random state  43 is 0.8919448064623194\n",
      "R2 score correspond to random state  44 is 0.6285088284774143\n",
      "R2 score correspond to random state  44 is 0.5570364150586136\n",
      "R2 score correspond to random state  44 is 0.5478576391342128\n",
      "R2 score correspond to random state  44 is 0.8934194774052816\n",
      "R2 score correspond to random state  45 is 0.6177553884277653\n",
      "R2 score correspond to random state  45 is 0.549876135475354\n",
      "R2 score correspond to random state  45 is 0.5362924687351875\n",
      "R2 score correspond to random state  45 is 0.885446675766213\n",
      "R2 score correspond to random state  46 is 0.6393716092237722\n",
      "R2 score correspond to random state  46 is 0.5613594716722992\n",
      "R2 score correspond to random state  46 is 0.548614110595023\n",
      "R2 score correspond to random state  46 is 0.8939556725071064\n",
      "R2 score correspond to random state  47 is 0.6327303828843365\n",
      "R2 score correspond to random state  47 is 0.5694615598320858\n",
      "R2 score correspond to random state  47 is 0.5472140787224424\n",
      "R2 score correspond to random state  47 is 0.8960540797394989\n",
      "R2 score correspond to random state  48 is 0.6259921819179806\n",
      "R2 score correspond to random state  48 is 0.5679360488740678\n",
      "R2 score correspond to random state  48 is 0.5415454109063493\n",
      "R2 score correspond to random state  48 is 0.8936430224611168\n",
      "R2 score correspond to random state  49 is 0.6266515940774868\n",
      "R2 score correspond to random state  49 is 0.5698858364951565\n",
      "R2 score correspond to random state  49 is 0.5384039422785971\n",
      "R2 score correspond to random state  49 is 0.8870069135654418\n",
      "R2 score correspond to random state  50 is 0.6261269457534178\n",
      "R2 score correspond to random state  50 is 0.5526766671984038\n",
      "R2 score correspond to random state  50 is 0.5380807024944387\n",
      "R2 score correspond to random state  50 is 0.8911011753971037\n",
      "R2 score correspond to random state  51 is 0.6322668523686283\n",
      "R2 score correspond to random state  51 is 0.5727485485467736\n",
      "R2 score correspond to random state  51 is 0.5539589464814949\n",
      "R2 score correspond to random state  51 is 0.8946681473706581\n",
      "R2 score correspond to random state  52 is 0.6279790957972898\n",
      "R2 score correspond to random state  52 is 0.5481660911818311\n",
      "R2 score correspond to random state  52 is 0.5362871530634622\n",
      "R2 score correspond to random state  52 is 0.8916682999236649\n",
      "R2 score correspond to random state  53 is 0.6417769750365077\n",
      "R2 score correspond to random state  53 is 0.5539910881146277\n",
      "R2 score correspond to random state  53 is 0.5489888918178916\n",
      "R2 score correspond to random state  53 is 0.8931254701422768\n",
      "R2 score correspond to random state  54 is 0.6339394502599949\n",
      "R2 score correspond to random state  54 is 0.5625338005602474\n",
      "R2 score correspond to random state  54 is 0.5484505236720063\n",
      "R2 score correspond to random state  54 is 0.895380313041829\n",
      "R2 score correspond to random state  55 is 0.6284347625210323\n",
      "R2 score correspond to random state  55 is 0.5567672792052001\n",
      "R2 score correspond to random state  55 is 0.539867160346494\n",
      "R2 score correspond to random state  55 is 0.8959209826071416\n",
      "R2 score correspond to random state  56 is 0.6304445589234478\n",
      "R2 score correspond to random state  56 is 0.5443818185622766\n",
      "R2 score correspond to random state  56 is 0.5367056436783771\n",
      "R2 score correspond to random state  56 is 0.8874169030323581\n",
      "R2 score correspond to random state  57 is 0.6172718442548626\n",
      "R2 score correspond to random state  57 is 0.5778897672260781\n",
      "R2 score correspond to random state  57 is 0.5476867226488953\n",
      "R2 score correspond to random state  57 is 0.8909505448677271\n",
      "R2 score correspond to random state  58 is 0.6353931709619186\n",
      "R2 score correspond to random state  58 is 0.5778937821008856\n",
      "R2 score correspond to random state  58 is 0.5503097525834424\n",
      "R2 score correspond to random state  58 is 0.8950902612366551\n",
      "R2 score correspond to random state  59 is 0.6197083283036802\n",
      "R2 score correspond to random state  59 is 0.5432868792177341\n",
      "R2 score correspond to random state  59 is 0.5365631806322451\n",
      "R2 score correspond to random state  59 is 0.8901478012991494\n",
      "R2 score correspond to random state  60 is 0.621374803476336\n",
      "R2 score correspond to random state  60 is 0.5565803326151441\n",
      "R2 score correspond to random state  60 is 0.545063389965724\n",
      "R2 score correspond to random state  60 is 0.8890969504066272\n",
      "R2 score correspond to random state  61 is 0.6264595027482583\n",
      "R2 score correspond to random state  61 is 0.5664431667303949\n",
      "R2 score correspond to random state  61 is 0.5472945011264034\n",
      "R2 score correspond to random state  61 is 0.8904951163554069\n",
      "R2 score correspond to random state  62 is 0.6422034292441485\n",
      "R2 score correspond to random state  62 is 0.5517191155467722\n",
      "R2 score correspond to random state  62 is 0.5589592235522189\n",
      "R2 score correspond to random state  62 is 0.8961659798252446\n",
      "R2 score correspond to random state  63 is 0.6266299834927015\n",
      "R2 score correspond to random state  63 is 0.5679112432038746\n",
      "R2 score correspond to random state  63 is 0.5415368723942113\n",
      "R2 score correspond to random state  63 is 0.8855281803750873\n",
      "R2 score correspond to random state  64 is 0.6348281652101441\n",
      "R2 score correspond to random state  64 is 0.5684669126097821\n",
      "R2 score correspond to random state  64 is 0.5471671600821268\n",
      "R2 score correspond to random state  64 is 0.8936509178397077\n",
      "R2 score correspond to random state  65 is 0.6287424237881902\n",
      "R2 score correspond to random state  65 is 0.5846624816967596\n",
      "R2 score correspond to random state  65 is 0.5523059424804896\n",
      "R2 score correspond to random state  65 is 0.8943655084669014\n",
      "R2 score correspond to random state  66 is 0.6302389840512683\n",
      "R2 score correspond to random state  66 is 0.5456215984798044\n",
      "R2 score correspond to random state  66 is 0.5383692341437725\n",
      "R2 score correspond to random state  66 is 0.8929057570075354\n",
      "R2 score correspond to random state  67 is 0.6196583413503578\n",
      "R2 score correspond to random state  67 is 0.5738638687941586\n",
      "R2 score correspond to random state  67 is 0.5360975511105994\n",
      "R2 score correspond to random state  67 is 0.8907576857720803\n",
      "R2 score correspond to random state  68 is 0.6345348048415644\n",
      "R2 score correspond to random state  68 is 0.5609074636163848\n",
      "R2 score correspond to random state  68 is 0.5433011423597508\n",
      "R2 score correspond to random state  68 is 0.8928993209185743\n",
      "R2 score correspond to random state  69 is 0.6251617191455727\n",
      "R2 score correspond to random state  69 is 0.5556924309254856\n",
      "R2 score correspond to random state  69 is 0.5387117793125623\n",
      "R2 score correspond to random state  69 is 0.8945071998615352\n",
      "R2 score correspond to random state  70 is 0.6268072901839787\n",
      "R2 score correspond to random state  70 is 0.5582893521065857\n",
      "R2 score correspond to random state  70 is 0.54448599972663\n",
      "R2 score correspond to random state  70 is 0.890724763919888\n",
      "R2 score correspond to random state  71 is 0.6297048254979837\n",
      "R2 score correspond to random state  71 is 0.5664362422443862\n",
      "R2 score correspond to random state  71 is 0.5512788198320886\n",
      "R2 score correspond to random state  71 is 0.8957756392595767\n",
      "R2 score correspond to random state  72 is 0.6282215901967847\n",
      "R2 score correspond to random state  72 is 0.5695728247238061\n",
      "R2 score correspond to random state  72 is 0.5335666511416862\n",
      "R2 score correspond to random state  72 is 0.8911505530378925\n",
      "R2 score correspond to random state  73 is 0.6234064771585179\n",
      "R2 score correspond to random state  73 is 0.5473728773285317\n",
      "R2 score correspond to random state  73 is 0.5401376537500329\n",
      "R2 score correspond to random state  73 is 0.8911405881130406\n",
      "R2 score correspond to random state  74 is 0.6329684907325454\n",
      "R2 score correspond to random state  74 is 0.5783775629638424\n",
      "R2 score correspond to random state  74 is 0.5345254112257865\n",
      "R2 score correspond to random state  74 is 0.8964672546503548\n",
      "R2 score correspond to random state  75 is 0.6283085735289402\n",
      "R2 score correspond to random state  75 is 0.541393925747903\n",
      "R2 score correspond to random state  75 is 0.5445195434861718\n",
      "R2 score correspond to random state  75 is 0.891969155951038\n",
      "R2 score correspond to random state  76 is 0.6272697214282901\n",
      "R2 score correspond to random state  76 is 0.557312618642265\n",
      "R2 score correspond to random state  76 is 0.5484220964665867\n",
      "R2 score correspond to random state  76 is 0.8921815908769856\n",
      "R2 score correspond to random state  77 is 0.6289412617660184\n",
      "R2 score correspond to random state  77 is 0.5734427205100378\n",
      "R2 score correspond to random state  77 is 0.5371975854290842\n",
      "R2 score correspond to random state  77 is 0.8934555573245508\n",
      "R2 score correspond to random state  78 is 0.6287153681957682\n",
      "R2 score correspond to random state  78 is 0.5462397356211679\n",
      "R2 score correspond to random state  78 is 0.5498394589242065\n",
      "R2 score correspond to random state  78 is 0.8978407819975319\n",
      "R2 score correspond to random state  79 is 0.6312936694289617\n",
      "R2 score correspond to random state  79 is 0.5638711294818058\n",
      "R2 score correspond to random state  79 is 0.548721194243803\n",
      "R2 score correspond to random state  79 is 0.8929138495047928\n",
      "R2 score correspond to random state  80 is 0.6225430773327747\n",
      "R2 score correspond to random state  80 is 0.5519776110400241\n",
      "R2 score correspond to random state  80 is 0.5410567038349583\n",
      "R2 score correspond to random state  80 is 0.8938702315327633\n",
      "R2 score correspond to random state  81 is 0.6358529499565979\n",
      "R2 score correspond to random state  81 is 0.5531089179521406\n",
      "R2 score correspond to random state  81 is 0.5459731369963027\n",
      "R2 score correspond to random state  81 is 0.8962461868746034\n",
      "R2 score correspond to random state  82 is 0.6093024387176864\n",
      "R2 score correspond to random state  82 is 0.5427981430697641\n",
      "R2 score correspond to random state  82 is 0.522531316657892\n",
      "R2 score correspond to random state  82 is 0.884918547835188\n",
      "R2 score correspond to random state  83 is 0.6276765279463776\n",
      "R2 score correspond to random state  83 is 0.5575242453236834\n",
      "R2 score correspond to random state  83 is 0.543372027288357\n",
      "R2 score correspond to random state  83 is 0.8949013438405443\n",
      "R2 score correspond to random state  84 is 0.634173341736279\n",
      "R2 score correspond to random state  84 is 0.5481378893856091\n",
      "R2 score correspond to random state  84 is 0.5410715346118911\n",
      "R2 score correspond to random state  84 is 0.893520961021417\n",
      "R2 score correspond to random state  85 is 0.6214998195678639\n",
      "R2 score correspond to random state  85 is 0.5578798668896205\n",
      "R2 score correspond to random state  85 is 0.5383309313194244\n",
      "R2 score correspond to random state  85 is 0.8870460046174696\n",
      "R2 score correspond to random state  86 is 0.6384346579065785\n",
      "R2 score correspond to random state  86 is 0.5792265342839609\n",
      "R2 score correspond to random state  86 is 0.5474456888829105\n",
      "R2 score correspond to random state  86 is 0.8936053203106911\n",
      "R2 score correspond to random state  87 is 0.6297523418465679\n",
      "R2 score correspond to random state  87 is 0.5466635273448947\n",
      "R2 score correspond to random state  87 is 0.5484509196719126\n",
      "R2 score correspond to random state  87 is 0.8919711960931995\n",
      "R2 score correspond to random state  88 is 0.6270049333787688\n",
      "R2 score correspond to random state  88 is 0.5368889444607607\n",
      "R2 score correspond to random state  88 is 0.5362127449979974\n",
      "R2 score correspond to random state  88 is 0.894353833792079\n",
      "R2 score correspond to random state  89 is 0.6216866838955499\n",
      "R2 score correspond to random state  89 is 0.5594093717164699\n",
      "R2 score correspond to random state  89 is 0.5329286766097892\n",
      "R2 score correspond to random state  89 is 0.8957781934748705\n",
      "\n",
      "\n",
      "\n",
      "\n",
      "max R2 score correspond to random state  78 is 0.8978407819975319 and model is XGBRegressor(base_score=0.5, booster='gbtree', colsample_bylevel=1,\n",
      "             colsample_bynode=1, colsample_bytree=1, enable_categorical=False,\n",
      "             gamma=0, gpu_id=-1, importance_type=None,\n",
      "             interaction_constraints='', learning_rate=0.300000012,\n",
      "             max_delta_step=0, max_depth=6, min_child_weight=1, missing=nan,\n",
      "             monotone_constraints='()', n_estimators=100, n_jobs=8,\n",
      "             num_parallel_tree=1, predictor='auto', random_state=0, reg_alpha=0,\n",
      "             reg_lambda=1, scale_pos_weight=1, subsample=1, tree_method='exact',\n",
      "             validate_parameters=1, verbosity=None)\n"
     ]
    }
   ],
   "source": [
    "#Now by using multiple Algorithms we are calculating the best Algo which suit best for our data set \n",
    "\n",
    "model = [KNeighborsRegressor(),AdaBoostRegressor(),LinearRegression(),XGBRegressor()]\n",
    "max_r2_score = 0\n",
    "for r_state in range(40,90):\n",
    "    train_x,test_x,train_y,test_y = train_test_split(x,y,random_state = r_state,test_size = 0.33)\n",
    "    for i in model:\n",
    "        i.fit(train_x,train_y)\n",
    "        pre = i.predict(test_x)\n",
    "        r2_sc = r2_score(test_y,pre)\n",
    "        print(\"R2 score correspond to random state \" ,r_state ,\"is\", r2_sc)\n",
    "        if r2_sc> max_r2_score:\n",
    "            max_r2_score=r2_sc\n",
    "            final_state = r_state\n",
    "            final_model = i\n",
    "            \n",
    "print()\n",
    "print()\n",
    "print()\n",
    "print()\n",
    "print(\"max R2 score correspond to random state \" ,final_state , \"is\" , max_r2_score ,\"and model is\",final_model)"
   ]
  },
  {
   "cell_type": "code",
   "execution_count": 191,
   "id": "94729716",
   "metadata": {},
   "outputs": [
    {
     "data": {
      "text/plain": [
       "GridSearchCV(cv=5,\n",
       "             estimator=XGBRegressor(base_score=None, booster=None,\n",
       "                                    colsample_bylevel=None,\n",
       "                                    colsample_bynode=None,\n",
       "                                    colsample_bytree=None,\n",
       "                                    enable_categorical=False, gamma=None,\n",
       "                                    gpu_id=None, importance_type=None,\n",
       "                                    interaction_constraints=None,\n",
       "                                    learning_rate=None, max_delta_step=None,\n",
       "                                    max_depth=None, min_child_weight=None,\n",
       "                                    missing=nan, monotone_constraints=None,\n",
       "                                    n...ors=100, n_jobs=None,\n",
       "                                    num_parallel_tree=None, predictor=None,\n",
       "                                    random_state=None, reg_alpha=None,\n",
       "                                    reg_lambda=None, scale_pos_weight=None,\n",
       "                                    subsample=None, tree_method=None,\n",
       "                                    validate_parameters=None, verbosity=None),\n",
       "             n_jobs=-1,\n",
       "             param_grid={'booster': ['gbtree', 'dart'],\n",
       "                         'importance_type': ['gain', 'split'],\n",
       "                         'max_depth': [5, 6, 7],\n",
       "                         'n_estimators': [100, 200, 500]},\n",
       "             scoring='r2')"
      ]
     },
     "execution_count": 191,
     "metadata": {},
     "output_type": "execute_result"
    }
   ],
   "source": [
    "#Checking the best parameter for prediction of XGBRegressor model using GridSearchCV\n",
    "train_x,test_x,train_y,test_y = train_test_split(x,y,random_state = 74,test_size = 0.33)\n",
    "xgb = XGB=XGBRegressor()\n",
    "params={\n",
    "    'booster':['gbtree','dart'],\n",
    "    'importance_type':['gain','split'],\n",
    "    'max_depth':[5,6,7],\n",
    "    'n_estimators':[100,200,500]}\n",
    "Grid=GridSearchCV(xgb,param_grid=params,n_jobs=-1,cv=5,scoring='r2')\n",
    "Grid.fit(x,y)"
   ]
  },
  {
   "cell_type": "code",
   "execution_count": 192,
   "id": "fd5f50d0",
   "metadata": {},
   "outputs": [
    {
     "data": {
      "text/plain": [
       "{'booster': 'gbtree',\n",
       " 'importance_type': 'gain',\n",
       " 'max_depth': 5,\n",
       " 'n_estimators': 500}"
      ]
     },
     "execution_count": 192,
     "metadata": {},
     "output_type": "execute_result"
    }
   ],
   "source": [
    "Grid.best_params_"
   ]
  },
  {
   "cell_type": "code",
   "execution_count": 196,
   "id": "0d6165fe",
   "metadata": {},
   "outputs": [
    {
     "name": "stdout",
     "output_type": "stream",
     "text": [
      "R2 Score : 90.0651485988271\n"
     ]
    }
   ],
   "source": [
    "XBG = XGBRegressor(booster='gbtree', max_depth=5,importance_type='gain',n_estimators=500)\n",
    "XBG.fit(train_x,train_y)\n",
    "pred = XBG.predict(test_x)\n",
    "r2_sc = r2_score(test_y,pred)\n",
    "print(\"R2 Score :\",r2_sc*100)"
   ]
  },
  {
   "cell_type": "markdown",
   "id": "fd8428e3",
   "metadata": {},
   "source": [
    "<b>accuracy increased by 89.78 to 90.06</b>"
   ]
  },
  {
   "cell_type": "code",
   "execution_count": 197,
   "id": "bb16609a",
   "metadata": {},
   "outputs": [],
   "source": [
    "XBG = XGBRegressor(\n",
    "    booster='gbtree', \n",
    "    max_depth=5,\n",
    "    importance_type='gain',\n",
    "    n_estimators=500)"
   ]
  },
  {
   "cell_type": "markdown",
   "id": "495e9982",
   "metadata": {},
   "source": [
    "# Final Model Learning Curve"
   ]
  },
  {
   "cell_type": "code",
   "execution_count": 199,
   "id": "17080b5f",
   "metadata": {},
   "outputs": [
    {
     "name": "stdout",
     "output_type": "stream",
     "text": [
      "MODEL PERFORMANCE CURVE\n"
     ]
    },
    {
     "data": {
      "image/png": "[encoded data removed]",
      "text/plain": [
       "<Figure size 432x288 with 1 Axes>"
      ]
     },
     "metadata": {
      "needs_background": "light"
     },
     "output_type": "display_data"
    }
   ],
   "source": [
    "print('MODEL PERFORMANCE CURVE')\n",
    "skplt.estimators.plot_learning_curve(XBG,x,y,cv=5,scoring='r2',title='XGBRegressor',text_fontsize='large')\n",
    "plt.show()"
   ]
  },
  {
   "cell_type": "code",
   "execution_count": 215,
   "id": "fffcfd97",
   "metadata": {},
   "outputs": [
    {
     "data": {
      "text/plain": [
       "Text(0, 0.5, 'Predicted_Y')"
      ]
     },
     "execution_count": 215,
     "metadata": {},
     "output_type": "execute_result"
    },
    {
     "data": {
      "image/png": "[encoded data removed]",
      "text/plain": [
       "<Figure size 432x288 with 1 Axes>"
      ]
     },
     "metadata": {
      "needs_background": "light"
     },
     "output_type": "display_data"
    }
   ],
   "source": [
    "plt.scatter(x=test_y,y=pred)\n",
    "plt.xlabel('Y_Test')\n",
    "plt.ylabel('Predicted_Y')"
   ]
  },
  {
   "cell_type": "code",
   "execution_count": 209,
   "id": "3bb06df3",
   "metadata": {},
   "outputs": [],
   "source": [
    "XBG.fit(train_x,train_y)\n",
    "y_predicted=XBG.predict(test_x)"
   ]
  },
  {
   "cell_type": "markdown",
   "id": "ea4cbcda",
   "metadata": {},
   "source": [
    "# Final Model Metrics"
   ]
  },
  {
   "cell_type": "code",
   "execution_count": 211,
   "id": "39b8390b",
   "metadata": {},
   "outputs": [
    {
     "name": "stdout",
     "output_type": "stream",
     "text": [
      "Mean Squared Error 0.01496490702245183\n",
      "Mean Absolute Error 0.08931648588427628\n",
      "RMSE 0.12233113676595926\n",
      "R2 Score 0.9006514859882709\n"
     ]
    }
   ],
   "source": [
    "print(\"Mean Squared Error\",mean_squared_error(test_y,y_predicted))\n",
    "print(\"Mean Absolute Error\",mean_absolute_error(test_y,y_predicted))\n",
    "print(\"RMSE\",np.sqrt(mean_squared_error(test_y,y_predicted)))\n",
    "print(\"R2 Score\",r2_score(test_y,y_predicted))"
   ]
  },
  {
   "cell_type": "markdown",
   "id": "feeddf5e",
   "metadata": {},
   "source": [
    "# Saving Model"
   ]
  },
  {
   "cell_type": "code",
   "execution_count": 212,
   "id": "c41cb443",
   "metadata": {},
   "outputs": [
    {
     "data": {
      "text/plain": [
       "['Avocado.obj']"
      ]
     },
     "execution_count": 212,
     "metadata": {},
     "output_type": "execute_result"
    }
   ],
   "source": [
    "import joblib\n",
    "joblib.dump(Grid,\"Avocado.obj\")"
   ]
  },
  {
   "cell_type": "markdown",
   "id": "f32f9289",
   "metadata": {},
   "source": [
    "# Loading Model"
   ]
  },
  {
   "cell_type": "code",
   "execution_count": 213,
   "id": "5c663b6c",
   "metadata": {},
   "outputs": [],
   "source": [
    "model=joblib.load('Avocado.obj')"
   ]
  },
  {
   "cell_type": "code",
   "execution_count": 214,
   "id": "fed42a9d",
   "metadata": {},
   "outputs": [
    {
     "data": {
      "text/plain": [
       "array([1.858379 , 1.858379 , 1.356763 , ..., 1.8595804, 1.2945555,\n",
       "       1.2779425], dtype=float32)"
      ]
     },
     "execution_count": 214,
     "metadata": {},
     "output_type": "execute_result"
    }
   ],
   "source": [
    "model.predict(x_test)"
   ]
  },
  {
   "cell_type": "markdown",
   "id": "b93e8a91",
   "metadata": {},
   "source": [
    "# Conclusion\n",
    "\n",
    "In this data the target variable was having the size of data 18249.\n",
    "\n",
    "We did EDA to understand the importance of features and also did feature engineering \n",
    "\n",
    "It was found that many columns have high correlation with each other.\n",
    "\n",
    "Trained multiple model and found XGBoostRegressor giving good r sqaure value so did hyperparameter tuning of that only.\n",
    "\n",
    "At the end, build a model that can predict the average price of avacado."
   ]
  }
 ],
 "metadata": {
  "kernelspec": {
   "display_name": "Python 3",
   "language": "python",
   "name": "python3"
  },
  "language_info": {
   "codemirror_mode": {
    "name": "ipython",
    "version": 3
   },
   "file_extension": ".py",
   "mimetype": "text/x-python",
   "name": "python",
   "nbconvert_exporter": "python",
   "pygments_lexer": "ipython3",
   "version": "3.8.8"
  }
 },
 "nbformat": 4,
 "nbformat_minor": 5
}
